{
 "cells": [
  {
   "cell_type": "markdown",
   "metadata": {},
   "source": [
    "# REPORTE PRÁCTICA 6: Modelos lineales\n",
    "\n",
    "# Análisis de Datos Multivariado \n",
    "\n",
    "#  Caso de Estudio: \n",
    "## Condiciones en los Centros de Reinserción Social CERESO y Topo Chico   \n",
    "\n",
    "\n",
    "####    Evely Gutiérrez Noda     #1935050\n",
    "\n",
    "\n",
    "# Introducción\n",
    "\n",
    "En el siguiente reporte se analiza el caso de estudio que permitirá evaluar las condiciones de reinserción social dentro del CERESO \"Apodaca\" y dentro del Centro Preventivo de Reinserción Topo Chico. Los datos que se usan para este estudio provienen de encuestas realizadas a mujeres y hombres, que se encuentran privados de libertad dentro del Centro de Reinserción. \n",
    "\n",
    "El objetivo de esta prásctica es modelar algunos aspectos de los datos recopilados de las encuestas con modelos lineales simples, concluir si los modelos que se obtienen son significativos o no y graficar los resultados.\n",
    "    \n",
    "# Desarrollo\n",
    "\n",
    "Se realizan modelos lineales separando los datos en dos grupos, mujeres y hombre, es decir, los modelos lineales se realizan primero para los datos de los hombres y luego de las mujeres, con el objetivo de encontrar aspectos significativos que condicionen la necesidad de las personas de cometer delitos.\n",
    "\n",
    "Se filtra los años de sentencia de los los internos hombres con edades mayores a 15 años.\n"
   ]
  },
  {
   "cell_type": "code",
   "execution_count": 69,
   "metadata": {},
   "outputs": [
    {
     "name": "stdout",
     "output_type": "stream",
     "text": [
      "484\n",
      "312\n",
      "300\n",
      "243\n",
      "543\n"
     ]
    },
    {
     "data": {
      "text/plain": [
       "Text(0, 0.5, 'Años de Sentencia')"
      ]
     },
     "execution_count": 69,
     "metadata": {},
     "output_type": "execute_result"
    },
    {
     "data": {
      "image/png": "[encoded data removed]",
      "text/plain": [
       "<Figure size 432x648 with 1 Axes>"
      ]
     },
     "metadata": {
      "needs_background": "light"
     },
     "output_type": "display_data"
    }
   ],
   "source": [
    "import pandas as pd\n",
    "from numpy import isnan\n",
    "from statsmodels.graphics.gofplots import qqplot\n",
    "import matplotlib.pyplot as plt\n",
    "from scipy.stats import shapiro\n",
    "import ssl\n",
    "\n",
    "if getattr(ssl, '_create_unverified_context', None):\n",
    "    ssl._create_default_https_context = ssl._create_unverified_context\n",
    "d = pd.read_csv(\"practica6.csv\")\n",
    "print(len(d))\n",
    "e = d.loc[d.gender == 'male'] # filtrar por genero, hombres\n",
    "print(len(e))\n",
    "d1 = e.loc[e.age >= 16] # Mayores de 16 años de edad\n",
    "print(len(d1))\n",
    "d2 = e.loc[~isnan(e.sentenceYears)] \n",
    "\n",
    "print(len(d2))\n",
    "m = pd.concat([d1, d2])\n",
    "print(len(m))\n",
    "d = m.age.dropna()\n",
    "\n",
    "plt.rcParams[\"figure.figsize\"] = [6, 9]\n",
    "f = plt.figure()  \n",
    "\n",
    "sf = f.add_subplot(312)\n",
    "sf.hist(d)\n",
    "sf.set_xlabel(\"Edad Interno\")\n",
    "sf.set_ylabel(\"Años de Sentencia\")\n"
   ]
  },
  {
   "cell_type": "markdown",
   "metadata": {},
   "source": [
    "En las gráficas anteriores se ve que en el caso de los hombres siguen una distribución aparentente normal. Luego se comienzan modelar los años de sentencia como una función de la edad de los internos hombres."
   ]
  },
  {
   "cell_type": "code",
   "execution_count": 62,
   "metadata": {},
   "outputs": [
    {
     "name": "stdout",
     "output_type": "stream",
     "text": [
      "y = f(x) = 0.0817 x + 12.0093\n",
      "error 0.06292450975594598\n",
      "valor p 0.19544903608298309\n",
      "pendiente no significativo\n",
      "R^2 0.006944806502868976\n"
     ]
    },
    {
     "data": {
      "text/plain": [
       "Text(0, 0.5, 'Sentencia Hombres')"
      ]
     },
     "execution_count": 62,
     "metadata": {},
     "output_type": "execute_result"
    },
    {
     "data": {
      "image/png": "[encoded data removed]",
      "text/plain": [
       "<Figure size 432x648 with 1 Axes>"
      ]
     },
     "metadata": {
      "needs_background": "light"
     },
     "output_type": "display_data"
    }
   ],
   "source": [
    "# Hombres internos, edad y años de sentencia\n",
    "import matplotlib.pyplot as plt\n",
    "from scipy import stats\n",
    "from numpy import isnan\n",
    "import pandas as pd\n",
    "import ssl\n",
    "\n",
    "if getattr(ssl, '_create_unverified_context', None):\n",
    "    ssl._create_default_https_context = ssl._create_unverified_context\n",
    "o = pd.read_csv(\"practica6.csv\")\n",
    "e = o.loc[o.gender == 'male']\n",
    "m = e.loc[~isnan(e.age > 16)]\n",
    "x = m.age\n",
    "y = m.sentenceYears \n",
    " \n",
    "mascara = ~isnan(x) & ~isnan(y)\n",
    "x = x[mascara]\n",
    "y = y[mascara]\n",
    "\n",
    "a, b, r, p, e = stats.linregress(x, y)\n",
    "print(\"y = f(x) = {:.4f} x + {:.4f}\".format(a, b))\n",
    "print(\"error\", e)\n",
    "print(\"valor p\", p)\n",
    "print(\"pendiente {:s}significativo\".format(\"no \" if p >= 0.05 else \"\"))\n",
    "print(\"R^2\", r**2)\n",
    "\n",
    "plt.plot(x, (a * x + b), label = 'y = {:.1f}x + {:.0f}'.format(a, b), color = 'black', linewidth = 3)\n",
    "plt.scatter(x, y)\n",
    "plt.legend(loc='upper left')\n",
    "plt.xlabel(\"Edad Hombres\")\n",
    "plt.ylabel(\"Sentencia Hombres\")\n"
   ]
  },
  {
   "cell_type": "markdown",
   "metadata": {},
   "source": [
    "Se obtiene una pendiente no significativa, el error es pequeño y se nota que van aumentando los años de sentencia con la edad, o que la edad de los hombres condiciona de algún modo la cantidad de años que les impongan. A medida que van creciendo los años de edad, va creciendo levemente los años de sentencia."
   ]
  },
  {
   "cell_type": "markdown",
   "metadata": {},
   "source": [
    "Además, se trabaja con los ingresos mensuales y los años de sentencia de los internos hombres, dado que puede ser que tenga valor significativo el hecho de tener menos dinero a cometer delitos más o menos graves y por consecuencia mayor o menor cantidad de años. Los ingresos mensuales antes de entrar a la prisión se registran en la encuesta de la siguiente forma:\n",
    "\n",
    "1. Menos de 3,000\n",
    "2. De 3,001 a 6,000\n",
    "3. De 6,001 a 9,000\n",
    "4. Más de 9,000 \n",
    "\n",
    "Se intenta modelar los años de sentencia en función de la cantidad de dinero que tenían los internos hombres mensualmente.\n"
   ]
  },
  {
   "cell_type": "code",
   "execution_count": 71,
   "metadata": {},
   "outputs": [
    {
     "name": "stdout",
     "output_type": "stream",
     "text": [
      "y = f(x) = -1.6490 x + 18.0927\n",
      "error 0.7573076672582115\n",
      "valor p 0.030488607756852505\n",
      "pendiente significativo\n",
      "R^2 0.020637081133893283\n"
     ]
    },
    {
     "data": {
      "image/png": "[encoded data removed]",
      "text/plain": [
       "<Figure size 432x648 with 1 Axes>"
      ]
     },
     "metadata": {
      "needs_background": "light"
     },
     "output_type": "display_data"
    },
    {
     "name": "stdout",
     "output_type": "stream",
     "text": [
      "Si gana menos de 3000, aproximado sentencia 18\n",
      "Si gana más de 9000, aproximado sentencia 16\n"
     ]
    }
   ],
   "source": [
    "# Hombres internos, años de sentencia e ingresos mensuales\n",
    "import matplotlib.pyplot as plt\n",
    "from scipy import stats\n",
    "from numpy import isnan\n",
    "import pandas as pd\n",
    "import ssl\n",
    "\n",
    "if getattr(ssl, '_create_unverified_context', None):\n",
    "    ssl._create_default_https_context = ssl._create_unverified_context\n",
    "o = pd.read_csv(\"practica6.csv\")\n",
    "e = o.loc[o.gender == 'male']\n",
    "m = e.loc[~isnan(e.age> 16)]\n",
    "\n",
    "y = m.sentenceYears # modelando\n",
    "x = m.incomePrev #  en función de y = f(x) = a * x + b\n",
    "\n",
    "mascara = ~isnan(x) & ~isnan(y)\n",
    "x = x[mascara]\n",
    "y = y[mascara]\n",
    "\n",
    "a, b, r, p, e = stats.linregress(x, y)\n",
    "print(\"y = f(x) = {:.4f} x + {:.4f}\".format(a, b))\n",
    "print(\"error\", e)\n",
    "print(\"valor p\", p)\n",
    "print(\"pendiente {:s}significativo\".format(\"no \" if p >= 0.05 else \"\"))\n",
    "print(\"R^2\", r**2)\n",
    "\n",
    "plt.plot(x, (a * x + b), label = 'y = {:.1f}x + {:.0f}'.format(a, b), color = 'black', linewidth = 3)\n",
    "plt.scatter(x, y)\n",
    "plt.legend(loc='upper center')\n",
    "plt.xlabel(\"Ingreso Mensual Hombres\")\n",
    "plt.xticks([1, 2, 3, 4], [\"3000\", \"6000\", \"9000\", \"más de 9000\"])\n",
    "plt.ylabel(\"Años de sentencia Hombres\")\n",
    "plt.show()\n",
    "\n",
    "print(\"Si gana menos de 3000, aproximado sentencia {:.0f}\".format(b))\n",
    "print(\"Si gana más de 9000, aproximado sentencia {:.0f}\".format(a + b))\n"
   ]
  },
  {
   "cell_type": "markdown",
   "metadata": {},
   "source": [
    "Se obtiene una pendiente significativa, se nota que la pendiente baja a medida que más ingresos mensuales tenga el interno, parece que mientras más ingresos mensuales tengan los hombres, el delito a cometer es más leve, o pudiera decirse que los años de sentencia de los hombres se pueden estimar como -1,6 veces del ingreso mensual más 18, aproximadamente.\n",
    "\n",
    "Se realiza estos mismos trabajos con las mujeres internas, primero se investiga la relación entre los años de sentencia que con la edad de las internas usando la misma metodología.\n"
   ]
  },
  {
   "cell_type": "code",
   "execution_count": 59,
   "metadata": {},
   "outputs": [
    {
     "name": "stdout",
     "output_type": "stream",
     "text": [
      "y = f(x) = 0.1386 x + 11.5369\n",
      "error 0.16527383815723537\n",
      "valor p 0.40422363964375885\n",
      "pendiente no significativo\n",
      "R^2 0.00829724724138278\n"
     ]
    },
    {
     "data": {
      "text/plain": [
       "Text(0, 0.5, 'Sentencia Mujeres')"
      ]
     },
     "execution_count": 59,
     "metadata": {},
     "output_type": "execute_result"
    },
    {
     "data": {
      "image/png": "[encoded data removed]",
      "text/plain": [
       "<Figure size 432x648 with 1 Axes>"
      ]
     },
     "metadata": {
      "needs_background": "light"
     },
     "output_type": "display_data"
    }
   ],
   "source": [
    "# Mujeres internas, edad y años de sentencia\n",
    "import matplotlib.pyplot as plt\n",
    "from scipy import stats\n",
    "from numpy import isnan\n",
    "import pandas as pd\n",
    "import ssl\n",
    "\n",
    "if getattr(ssl, '_create_unverified_context', None):\n",
    "    ssl._create_default_https_context = ssl._create_unverified_context\n",
    "o = pd.read_csv(\"practica6.csv\")\n",
    "e = o.loc[o.gender == 'female']\n",
    "m = e.loc[~isnan(e.age > 16)]\n",
    "x = m.age\n",
    "y = m.sentenceYears \n",
    " \n",
    "mascara = ~isnan(x) & ~isnan(y)\n",
    "x = x[mascara]\n",
    "y = y[mascara]\n",
    "\n",
    "a, b, r, p, e = stats.linregress(x, y)\n",
    "print(\"y = f(x) = {:.4f} x + {:.4f}\".format(a, b))\n",
    "print(\"error\", e)\n",
    "print(\"valor p\", p)\n",
    "print(\"pendiente {:s}significativo\".format(\"no \" if p >= 0.05 else \"\"))\n",
    "print(\"R^2\", r**2)\n",
    "\n",
    "plt.plot(x, (a * x + b), label = 'y = {:.1f}x + {:.0f}'.format(a, b), color = 'red', linewidth = 3)\n",
    "plt.scatter(x, y)\n",
    "plt.legend(loc='upper left')\n",
    "plt.xlabel(\"Edad Mujeres\")\n",
    "plt.ylabel(\"Sentencia Mujeres\")\n"
   ]
  },
  {
   "cell_type": "markdown",
   "metadata": {},
   "source": [
    "Se obtiene pendiente no significativa en este caso, se prueba entonces con los años de sentencia y su relación con los ingresos mensuales de las mujeres."
   ]
  },
  {
   "cell_type": "code",
   "execution_count": 60,
   "metadata": {},
   "outputs": [
    {
     "name": "stdout",
     "output_type": "stream",
     "text": [
      "y = f(x) = -0.1476 x + 17.0992\n",
      "error 1.8303303884164583\n",
      "valor p 0.9359475964444619\n",
      "pendiente no significativo\n",
      "R^2 9.427632609560544e-05\n"
     ]
    },
    {
     "data": {
      "image/png": "[encoded data removed]",
      "text/plain": [
       "<Figure size 432x648 with 1 Axes>"
      ]
     },
     "metadata": {
      "needs_background": "light"
     },
     "output_type": "display_data"
    },
    {
     "name": "stdout",
     "output_type": "stream",
     "text": [
      "Si gana menos de 3000, aproximado sentencia 17\n",
      "Si gana más de 9000, aproximado sentencia 17\n"
     ]
    }
   ],
   "source": [
    "# Mujeres internas, años de sentencia e ingresos mensuales\n",
    "import matplotlib.pyplot as plt\n",
    "from scipy import stats\n",
    "from numpy import isnan\n",
    "import pandas as pd\n",
    "import ssl\n",
    "\n",
    "if getattr(ssl, '_create_unverified_context', None):\n",
    "    ssl._create_default_https_context = ssl._create_unverified_context\n",
    "o = pd.read_csv(\"practica6.csv\")\n",
    "e = o.loc[o.gender == 'female']\n",
    "m = e.loc[e.age >= 16]\n",
    "\n",
    "y = m.sentenceYears # modelando\n",
    "x = m.incomePrev #  en función de y = f(x) = a * x + b\n",
    "\n",
    "mascara = ~isnan(x) & ~isnan(y)\n",
    "x = x[mascara]\n",
    "y = y[mascara]\n",
    "\n",
    "a, b, r, p, e = stats.linregress(x, y)\n",
    "print(\"y = f(x) = {:.4f} x + {:.4f}\".format(a, b))\n",
    "print(\"error\", e)\n",
    "print(\"valor p\", p)\n",
    "print(\"pendiente {:s}significativo\".format(\"no \" if p >= 0.05 else \"\"))\n",
    "print(\"R^2\", r**2)\n",
    "\n",
    "plt.plot(x, (a * x + b), label = 'y = {:.1f}x + {:.0f}'.format(a, b), color = 'red', linewidth = 3)\n",
    "plt.scatter(x, y)\n",
    "plt.legend(loc='upper center')\n",
    "plt.xlabel(\"Ingreso Mensual\")\n",
    "plt.xticks([1, 2, 3, 4], [\"3000\", \"6000\", \"9000\", \"más de 9000\"])\n",
    "plt.ylabel(\"Años de sentencia\")\n",
    "plt.show()\n",
    "\n",
    "print(\"Si gana menos de 3000, aproximado sentencia {:.0f}\".format(b))\n",
    "print(\"Si gana más de 9000, aproximado sentencia {:.0f}\".format(a + b))\n"
   ]
  },
  {
   "cell_type": "markdown",
   "metadata": {},
   "source": [
    "De igual modo la pendiente no es significativa para esta relación en el caso de las mujeres internas, esto puede ser debido a que los datos de las mujeres al parecer no están cerca de ser normalmente distribuidos, por tanto, vamos a revisar como se encuentran estos datos en las mujeres."
   ]
  },
  {
   "cell_type": "code",
   "execution_count": 63,
   "metadata": {},
   "outputs": [
    {
     "name": "stdout",
     "output_type": "stream",
     "text": [
      "484\n",
      "172\n",
      "171\n",
      "86\n",
      "257\n"
     ]
    },
    {
     "data": {
      "text/plain": [
       "Text(0, 0.5, 'Años de Sentencia')"
      ]
     },
     "execution_count": 63,
     "metadata": {},
     "output_type": "execute_result"
    },
    {
     "data": {
      "image/png": "[encoded data removed]",
      "text/plain": [
       "<Figure size 432x648 with 1 Axes>"
      ]
     },
     "metadata": {
      "needs_background": "light"
     },
     "output_type": "display_data"
    }
   ],
   "source": [
    "import pandas as pd\n",
    "from numpy import isnan\n",
    "from statsmodels.graphics.gofplots import qqplot\n",
    "import matplotlib.pyplot as plt\n",
    "from scipy.stats import shapiro\n",
    "import ssl\n",
    "\n",
    "if getattr(ssl, '_create_unverified_context', None):\n",
    "    ssl._create_default_https_context = ssl._create_unverified_context\n",
    "d = pd.read_csv(\"practica6.csv\")\n",
    "print(len(d))\n",
    "e = d.loc[d.gender == 'female'] # filtrar por genero, mujeres\n",
    "print(len(e))\n",
    "d1 = e.loc[e.age >= 16] # Mayores de 16 años de edad\n",
    "print(len(d1))\n",
    "d2 = e.loc[~isnan(e.sentenceYears)] \n",
    "\n",
    "print(len(d2))\n",
    "m = pd.concat([d1, d2])\n",
    "print(len(m))\n",
    "d = m.age.dropna()\n",
    "\n",
    "plt.rcParams[\"figure.figsize\"] = [6, 9]\n",
    "f = plt.figure()  \n",
    "\n",
    "sf = f.add_subplot(312)\n",
    "sf.hist(d)\n",
    "sf.set_xlabel(\"Edad Interna\")\n",
    "sf.set_ylabel(\"Años de Sentencia\")\n",
    "\n"
   ]
  },
  {
   "cell_type": "markdown",
   "metadata": {},
   "source": [
    "Como se ve en las gráficas anteriores la distribución de los datos de las mujeres no están nada normales, pudiendo ser esto la causa de los resultados no significativos obtenidos anteriormente."
   ]
  },
  {
   "cell_type": "code",
   "execution_count": 34,
   "metadata": {},
   "outputs": [
    {
     "name": "stdout",
     "output_type": "stream",
     "text": [
      "MannwhitneyuResult(statistic=18191.5, pvalue=0.008141761326959098)\n"
     ]
    },
    {
     "data": {
      "image/png": "[encoded data removed]",
      "text/plain": [
       "<Figure size 432x288 with 1 Axes>"
      ]
     },
     "metadata": {
      "needs_background": "light"
     },
     "output_type": "display_data"
    }
   ],
   "source": [
    "from scipy.stats import mannwhitneyu\n",
    "import matplotlib.pyplot as plt\n",
    "import pandas as pd\n",
    "import ssl\n",
    "\n",
    "if getattr(ssl, '_create_unverified_context', None):\n",
    "    ssl._create_default_https_context = ssl._create_unverified_context\n",
    "d = pd.read_csv(\"practica6.csv\")\n",
    "hombre = d.loc[d.gender == 'male'] \n",
    "mujer = d.loc[d.gender == 'female'] \n",
    "h = hombre.incomePrev.dropna()\n",
    "m = mujer.incomePrev.dropna()\n",
    "print(mannwhitneyu(h, m))\n",
    "\n",
    "bp = dict(linestyle='-', linewidth = 2, color='black', facecolor='blue')\n",
    "fp = dict(marker = 'o', markerfacecolor = 'green', markersize = 5, linestyle = 'none')\n",
    "mp = dict(linestyle = '-', linewidth = 2.5, color ='firebrick')\n",
    "plt.boxplot([h, m], labels=[\"Ingresos Hombres\", \"Ingresos Mujeres\"], \\\n",
    "            boxprops = bp, flierprops = fp, medianprops = mp, patch_artist = True)\n",
    "plt.show()"
   ]
  },
  {
   "cell_type": "markdown",
   "metadata": {},
   "source": [
    "El diagrama anterior muestra una diferencia un poco más significativa en cuanto a los ingresos mensuales entre los hombres y mujeres, siendo las mujeres las de menos ingresos, pudiendo ser esto una de las causas probables de llevarlas a cometer delitos.\n",
    "\n",
    "En resumen, ninguno de los modelos anteriores fue muy bueno, los datos no se encuentran normalmente distribuidos y esto no ayuda los modelos. A pesar de esto se pudo apreciar que en el caso de los hombres puede existir una relación de dependencia de los años de sentencia con respecto a la edad de los internos, y un poco más con la cantidad de dinero que tenían como ingreso mensual, cosa que en el caso de las mujeres no se comportó de esta manera, por lo cual valdría la pena seguir revisando que factores condicionan el hecho de que las mujeres cometan ciertos delitos.\n"
   ]
  },
  {
   "cell_type": "code",
   "execution_count": null,
   "metadata": {},
   "outputs": [],
   "source": []
  },
  {
   "cell_type": "code",
   "execution_count": null,
   "metadata": {},
   "outputs": [],
   "source": []
  }
 ],
 "metadata": {
  "kernelspec": {
   "display_name": "Python 3",
   "language": "python",
   "name": "python3"
  },
  "language_info": {
   "codemirror_mode": {
    "name": "ipython",
    "version": 3
   },
   "file_extension": ".py",
   "mimetype": "text/x-python",
   "name": "python",
   "nbconvert_exporter": "python",
   "pygments_lexer": "ipython3",
   "version": "3.7.1"
  }
 },
 "nbformat": 4,
 "nbformat_minor": 2
}
