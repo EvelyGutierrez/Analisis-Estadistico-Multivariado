{
 "cells": [
  {
   "cell_type": "markdown",
   "metadata": {},
   "source": [
    "\n",
    "# REPORTE PRÁCTICA 2:  Lectura y Manipulación de Datos con Pandas\n",
    "\n",
    "# Análisis de Datos Multivariado \n",
    "\n",
    "#  Caso de Estudio: \n",
    "## Condiciones en los Centros de Reinserción Social CERESO y Topo Chico   \n",
    "\n",
    "\n",
    "####    Evely Gutiérrez Noda     # 1935050\n",
    "\n",
    "-----\n",
    "\n",
    "# Introducción\n",
    "\n",
    "<p style=\"text-align: justify;\">\n",
    "En el siguiente reporte se analiza el caso de estudio que permitirá evaluar las condiciones de reinserción social dentro del CERESO \"Apodaca\" y dentro del Centro Preventivo de Reinserción Topo Chico. Los datos que se usan para este estudio provienen de encuestas realizadas a mujeres y hombres por separado, que se encuentran privados de libertad dentro del Centro de Reinserción. Con este cuestionario se pretende evaluar las condiciones de vida, económicas, educativas y familiares de estas personas, así como las condiciones de los penitenciarios.\n",
    "<p style=\"text-align: justify;\">    \n",
    "El objetivo de este reporte es cargar los datos a un Data Frames utilizando la libreria [Pandas](http://pandas.pydata.org/), ya que los datos estan en formato **.CSV** y es una gran cantidad de información que al abrirlos en un Ecxel se perderían columnas. Se presentan los ejemplos de trabajos con la libreria Pandas, en este caso de estudio se pretende alcanzar objetivos como:\n",
    "\n",
    "1. Unificar datos seleccionados de las encuestas de hombres y de mujeres en un fichero nuevo **.CSV**.\n",
    "2. Agregar columnas en común para hombres y mujeres para trabajar con ellas proximamente.\n",
    "   - gender (correspondiente al genero)\n",
    "   - stayYears, stayMonths, stayDays (correspondiente al tiempo que llevan en el penitenciario)\n",
    "   - crime (correspondiente al crimen que cometieron)\n",
    "   - sentenceYears, sentenceMonths, sentenceDays (correspondiente al tiempo de sentencia a partir del delito cometido)   \n",
    "3. Determinar que tiempo llevan privados a la libertad hombres y mujeres que aun estan esperando sentencia.\n",
    "\n",
    "Además se refleja el trabajo realizado con la libreria Pandas en algunos ejemplos de:\n",
    "\n",
    "- Leer data frame de archivos **.CSV.**\n",
    "- Guardar el data frame en un fichero con formato **.CSV**.\n",
    "- Agregar columnas de pruebas en el data frames.\n",
    "- Combinar dos o más data frames (ej. el de hombres con el de mujeres).\n",
    "- Realizar filtros a los renglones de un data frame para practicar el trabajo con la librería Pandas.\n",
    "\n",
    "<p style=\"text-align: justify;\">\n",
    "Para comenzar la lectura de datos y cargarlos en un Data Frame, se necesita importar la librería Pandas, esto se logra con el siguiente código en la consola."
   ]
  },
  {
   "cell_type": "code",
   "execution_count": null,
   "metadata": {},
   "outputs": [],
   "source": [
    "$ pip3 install pandas"
   ]
  },
  {
   "cell_type": "markdown",
   "metadata": {},
   "source": [
    "<p style=\"text-align: justify;\">\n",
    "Ya teniendo instalado pandas, se comienza la lectura de datos con el siguiente código en **Python 3**. Primero se crea una clase llamada **ReadData** para la lectura del fichero **uniform.csv** usando la libreria pandas mediante la variable `pd`. Luego se seleccionan las columnas que se van a utilizar y se guardan en un fichero nuevo llamado **UniformDataFrame.csv**, mediante la finción de la pibreria pandas `.to_csv`.\n",
    "<p style=\"text-align: justify;\">    \n",
    "A las columnas seleccionadas se le aplican diferentes correcciones, ya que pueden ser del tipo enteras o de caracteres, en este caso se reemplazaron los **NA** por ceros en columnas del tipo enteras y se cambiaron los **NA** por **No Contesto** en columnas de formato tipo caracteres. Además se convirtieron a enteras las columnas que tratan con datos numéricos para posibles trabajos con ellos."
   ]
  },
  {
   "cell_type": "code",
   "execution_count": 12,
   "metadata": {},
   "outputs": [],
   "source": [
    "import pandas as pd\n",
    "import numpy as np\n",
    "\n",
    "class ReadData:\n",
    "    \n",
    "    def __init__(self):       \n",
    "        self.procesarUniform()\n",
    "        \n",
    "        \n",
    "    def procesarUniform(self):\n",
    "        uniform = pd.read_csv('uniform.csv')\n",
    "        uniform['gender'] = uniform['gender']\n",
    "        uniform['stayYears'] = uniform['stayYears'].replace(np.nan, 0)\n",
    "        uniform['stayYears'] = uniform['stayYears'].astype(np.int64)#convierte a entero\n",
    "        uniform['stayMonths'] = uniform['stayMonths'].replace(np.nan, 0)\n",
    "        uniform['stayMonths'] = uniform['stayMonths'].astype(np.int64)#convierte a entero\n",
    "        uniform['stayDays'] = uniform['stayDays'].replace(np.nan, 0)\n",
    "        uniform['stayDays'] = uniform['stayDays'].astype(np.int64)#convierte a entero\n",
    "        uniform['crime'] = uniform['crime'].replace(np.nan, 'No Contesto')\n",
    "        uniform['sentenceYears'] = uniform['sentenceYears'].replace(np.nan, 0)\n",
    "        uniform['sentenceMonths'] = uniform['sentenceMonths'].replace(np.nan, 0)\n",
    "        uniform['sentenceDays'] = uniform['sentenceDays'].replace(np.nan, 0)\n",
    "        uniform[['gender','stayYears','stayMonths','stayDays','crime','sentenceYears',\n",
    "                 'sentenceMonths','sentenceDays']].to_csv('UniformDataFrame.csv')  "
   ]
  },
  {
   "cell_type": "markdown",
   "metadata": {},
   "source": [
    "Luego se crea la clase **UniformMaleFemale** para inicializar los atributos que pertenecen a este nuevo fichero creado a partir de la lectura del Data Frame, los atributos corresponden a las columnas del fichero. Se programa un if para validar que los internos, ya sean hombres o mujeres, no lleven mas años dentro del penitenciario que la cantidad de años que les pusieron de sentecia por el delito cometido."
   ]
  },
  {
   "cell_type": "code",
   "execution_count": 13,
   "metadata": {},
   "outputs": [],
   "source": [
    "import numpy as np\n",
    "\n",
    "class UniformMaleFemale:\n",
    "    \n",
    "    def __init__(self, folio, genero, crime):\n",
    "        self.folio = folio\n",
    "        self.gender = genero\n",
    "        \n",
    "        self.stayYears = 0\n",
    "        self.stayMonths = 0\n",
    "        self.stayDays = 0\n",
    "\n",
    "        self.crime = crime\n",
    "        self.sentenceYears = 0\n",
    "        self.sentenceMonths = 0\n",
    "        self.sentenceDays = 0\n",
    "        \n",
    "        \n",
    "        if stayYears > sentenceYears:\n",
    "            self.stayYears = 1111111\n",
    "        else:\n",
    "            self.stayYears = stayYears"
   ]
  },
  {
   "cell_type": "markdown",
   "metadata": {},
   "source": [
    "A continuación se muestra el **main.py** con el cual se corre el programa, este tiene importadas las dos clases anteriormente descritas y unicamente ejecuta la inicialización de las variables en la clase **UniformMaleFemale** y guarda el DataFrame en la variable `rd`  "
   ]
  },
  {
   "cell_type": "code",
   "execution_count": 14,
   "metadata": {},
   "outputs": [
    {
     "name": "stdout",
     "output_type": "stream",
     "text": [
      "leyendo Data Frame\n"
     ]
    }
   ],
   "source": [
    "from ReadData import ReadData\n",
    "from UniformMaleFemale import UniformMaleFemale\n",
    "\n",
    "print(\"leyendo Data Frame\")\n",
    "rd = ReadData()\n",
    "\n",
    "\n"
   ]
  },
  {
   "cell_type": "markdown",
   "metadata": {},
   "source": [
    "Ya teniendo el archivo con los datos extraidos para analizar, se comienza a realizar algunas pruebas con ellos, por ejemplo, se busca la cantidad de hombres que responden detalladamente el tiempo que llevan dentro del penitenciario (respuestas con dias, meses y años), de igual modo para las mujeres, y se busca también la cantidad de hombres y mujeres por independientes no responden a esa pregunta con tanta especificación, mediante el código siguiente. "
   ]
  },
  {
   "cell_type": "code",
   "execution_count": null,
   "metadata": {},
   "outputs": [],
   "source": [
    "from ReadData import ReadData\n",
    "from UniformMaleFemale import UniformMaleFemale\n",
    "\n",
    "print(\"leyendo Data Frame\")\n",
    "\n",
    "ufm = []\n",
    "rd = ReadData()\n",
    "\n",
    "with open('UniformDataFrame.csv','r') as uniform:\n",
    "    todoH = 0\n",
    "    todoM = 0\n",
    "    next(uniform)\n",
    "    for lineas in uniform:\n",
    "        temp = lineas.split(',')\n",
    "        if str(temp[1]) == 'male':\n",
    "            if int(temp[2]) > 0 and int(temp[3])> 0 and int(temp[4])> 0:\n",
    "                todoH = todoH + 1\n",
    "            \n",
    "    print('Hombres que responden detalladamente: ')\n",
    "    print(todoH)\n",
    "\n",
    "with open('UniformDataFrame.csv','r') as uniform:\n",
    "    for lineas2 in uniform:\n",
    "        temp1 = lineas2.split(',')\n",
    "        if str(temp1[1]) == 'female':\n",
    "            if int(temp1[2]) > 0 and int(temp1[3])> 0 and int(temp1[4])> 0:\n",
    "                todoM = todoM + 1\n",
    "            \n",
    "    print('Mujeres que responden detalladamente: ')\n",
    "    print(todoM)\n",
    "\n",
    "uniform.close()"
   ]
  },
  {
   "cell_type": "code",
   "execution_count": null,
   "metadata": {},
   "outputs": [],
   "source": [
    "Hombres que responden detalladamente: \n",
    "2\n",
    "Mujeres que responden detalladamente: \n",
    "0\n",
    "Hombres que NO responden detalladamente: \n",
    "296\n",
    "Mujeres que NO responden detalladamente: \n",
    "144\n",
    ">>> "
   ]
  },
  {
   "cell_type": "markdown",
   "metadata": {},
   "source": [
    "En los resultados anteriores se evidencia que solo dos hombres responden detalladamente el tiempo que llevan privados a la libertad, y ninguna mujer responde de esta manera. Pero si un gran número de mujeres y hombres responden sin detalles el tiempo que llevan encarcelados (296 Hombres y 144 Mujeres)."
   ]
  }
 ],
 "metadata": {
  "kernelspec": {
   "display_name": "Python 3",
   "language": "python",
   "name": "python3"
  },
  "language_info": {
   "codemirror_mode": {
    "name": "ipython",
    "version": 3
   },
   "file_extension": ".py",
   "mimetype": "text/x-python",
   "name": "python",
   "nbconvert_exporter": "python",
   "pygments_lexer": "ipython3",
   "version": "3.7.1"
  }
 },
 "nbformat": 4,
 "nbformat_minor": 2
}
