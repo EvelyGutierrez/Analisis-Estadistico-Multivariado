{
 "cells": [
  {
   "cell_type": "markdown",
   "metadata": {},
   "source": [
    "\n",
    "# REPORTE PRÁCTICA 2:  Lectura y Manipulación de Datos con Pandas\n",
    "\n",
    "# Análisis de Datos Multivariado \n",
    "\n",
    "#  Caso de Estudio: \n",
    "## Condiciones en los Centros de Reinserción Social CERESO y Topo Chico   \n",
    "\n",
    "\n",
    "####    Evely Gutiérrez Noda     # 1935050\n",
    "\n",
    "-----\n",
    "\n",
    "# Introducción\n",
    "\n",
    "<p style=\"text-align: justify;\">\n",
    "En el siguiente reporte se analiza el caso de estudio que permitirá evaluar las condiciones de reinserción social dentro del CERESO \"Apodaca\" y dentro del Centro Preventivo de Reinserción Topo Chico. Los datos que se usan para este estudio provienen de encuestas realizadas a mujeres y hombres por separado, que se encuentran privados de libertad dentro del Centro de Reinserción. Con este cuestionario se pretende evaluar las condiciones de vida, económicas, educativas y familiares de estas personas, así como las condiciones de los penitenciarios.\n",
    "<p style=\"text-align: justify;\">    \n",
    "El objetivo de este reporte es cargar los datos a un Data Frames utilizando la librería [Pandas](http://pandas.pydata.org/), ya que los datos están en formato **.CSV** y es una gran cantidad de información que al abrirlos en un Excel se perderían columnas. Se presentan los ejemplos de trabajos con la librería Pandas, en este caso de estudio se pretende alcanzar objetivos como:\n",
    "\n",
    "1. Agregar columnas en común para hombres y mujeres en el data frame y guardarlas en un fichero **.CSV** nuevo usando la librería pandas. Algunas columnas fueron:\n",
    "   - gender (correspondiente al género)\n",
    "   - stayYears, stayMonths, stayDays (correspondiente al tiempo que llevan en el penitenciario)\n",
    "   - crime (correspondiente al crimen que cometieron)\n",
    "   - sentenceYears, sentenceMonths, sentenceDays (correspondiente al tiempo de sentencia a partir del delito cometido)   \n",
    "2. Determinar qué cantidad de hombres y mujeres llevan privados de la libertad y aun están esperando sentencia.\n",
    "3. Analizar como son las relaciones familiares que sostienen los internos en el penitenciario.\n",
    "4. Verificar si tienen acciones para realizar la reinserción social extramuros para los internos una vez que concluyan las condenas.\n",
    "5. Trabajar sobre temas relacionados con los hijos que viven con las internas y los que no.\n",
    "6. Explorar las condiciones de infraestructura, higiene y seguridad de los internos dentro de los penitenciarios.\n",
    "\n",
    "Además, se refleja el trabajo realizado con la librería Pandas en algunos ejemplos de:\n",
    "\n",
    "- Leer data frame de archivos **.CSV**.\n",
    "- Guardar el data frame en un fichero con formato **.CSV**.\n",
    "- Agregar columnas de pruebas en el data frames.\n",
    "- Combinar dos o más data frames (ej. el de hombres con el de mujeres).\n",
    "- Realizar filtros a los renglones de un data frame para practicar el trabajo con la librería Pandas.\n",
    "\n",
    "<p style=\"text-align: justify;\">\n",
    "Para comenzar la lectura de datos y cargarlos en un Data Frame (ayuda para trabajar con [Data Frame] (https://pandas.pydata.org/pandas-docs/stable/user_guide/merging.html)), se necesita importar la librería Pandas, esto se logra con el siguiente código en la consola."
   ]
  },
  {
   "cell_type": "code",
   "execution_count": null,
   "metadata": {},
   "outputs": [],
   "source": [
    "$ pip3 install pandas"
   ]
  },
  {
   "cell_type": "markdown",
   "metadata": {},
   "source": [
    "<p style=\"text-align: justify;\">\n",
    "Ya teniendo instalado pandas, se comienza la lectura de datos con el siguiente código en **Python 3**. Primero se crea una clase llamada **ReadData** para la lectura del fichero **uniform.csv** usando la librería pandas mediante la variable `pd`. Luego se seleccionan las columnas que se van a utilizar y se guardan en un fichero nuevo llamado **UniformDataFrame.csv**, mediante la función de la librería pandas `.to_csv`.\n",
    "<p style=\"text-align: justify;\">    \n",
    "A las columnas seleccionadas se le aplican diferentes correcciones, ya que pueden ser del tipo enteras o de caracteres, en este caso se reemplazaron los **NA** por ceros en columnas del tipo enteras y se cambiaron los **NA** por **No Contesto** en columnas de formato tipo caracteres. Además, se convirtieron a enteras las columnas que tratan con datos numéricos para posibles trabajos con ellos. Aun no quedan agregadas todas las columnas con las que se va a trabajar, pero es solo cuestión de agregarlas en el siguiente código."
   ]
  },
  {
   "cell_type": "code",
   "execution_count": 12,
   "metadata": {},
   "outputs": [],
   "source": [
    "import pandas as pd\n",
    "import numpy as np\n",
    "\n",
    "class ReadData:\n",
    "    \n",
    "    def __init__(self):       \n",
    "        self.procesarUniform()\n",
    "        \n",
    "        \n",
    "    def procesarUniform(self):\n",
    "        uniform = pd.read_csv('uniform.csv')\n",
    "        \n",
    "        uniform['gender'] = uniform['gender']\n",
    "        uniform['stayYears'] = uniform['stayYears'].replace(np.nan, 0)\n",
    "        uniform['stayYears'] = uniform['stayYears'].astype(np.int64)#convierte a entero\n",
    "        uniform['stayMonths'] = uniform['stayMonths'].replace(np.nan, 0)\n",
    "        uniform['stayMonths'] = uniform['stayMonths'].astype(np.int64)#convierte a entero\n",
    "        uniform['stayDays'] = uniform['stayDays'].replace(np.nan, 0)\n",
    "        uniform['stayDays'] = uniform['stayDays'].astype(np.int64)#convierte a entero\n",
    "        uniform['crime'] = uniform['crime'].replace(np.nan, 'No Contesto')\n",
    "        uniform['sentenceYears'] = uniform['sentenceYears'].replace(np.nan, 0)\n",
    "        uniform['sentenceYears'] = uniform['sentenceYears'].astype(np.int64)#convierte a entero\n",
    "        uniform['sentenceMonths'] = uniform['sentenceMonths'].replace(np.nan, 0)\n",
    "        uniform['sentenceMonths'] = uniform['sentenceMonths'].astype(np.int64)#convierte a entero\n",
    "        uniform['sentenceDays'] = uniform['sentenceDays'].replace(np.nan, 0)\n",
    "        uniform['sentenceDays'] = uniform['sentenceDays'].astype(np.int64)#convierte a entero\n",
    "        uniform[['gender','stayYears','stayMonths','stayDays','crime','sentenceYears',\n",
    "                 'sentenceMonths','sentenceDays']].to_csv('UniformDataFrame.csv')  "
   ]
  },
  {
   "cell_type": "markdown",
   "metadata": {},
   "source": [
    "<p style=\"text-align: justify;\"> \n",
    "Con esto se da cumplimiento al primer objetivo trazado en el inicio del reporte (Unificar datos de columnas seleccionadas de las encuestas de hombres y de mujeres en un fichero **.CSV** nuevo usando la librería pandas), el fichero .CSV nuevo que se crea es el **UniformDataFrame.csv**. \n",
    "\n",
    "<p style=\"text-align: justify;\"> \n",
    "Luego se crea la clase **UniformMaleFemale** para inicializar los atributos que pertenecen a este nuevo fichero creado a partir de la lectura del Data Frame, los atributos corresponden a las columnas del fichero. Se programa un `if` para validar que los internos, ya sean hombres o mujeres, no lleven más años dentro del penitenciario que la cantidad de años que les pusieron de sentencia por el delito cometido, es poco probable que esto pase, pero igual se valida. Se crean estas clases con el objetivo de mantener una organización que permita un mejor trabajo futuro.\n"
   ]
  },
  {
   "cell_type": "code",
   "execution_count": 13,
   "metadata": {},
   "outputs": [],
   "source": [
    "import numpy as np\n",
    "\n",
    "class UniformMaleFemale:\n",
    "    \n",
    "    def __init__(self, folio, genero, crime):\n",
    "        self.folio = folio\n",
    "        self.gender = genero\n",
    "        \n",
    "        self.stayYears = 0\n",
    "        self.stayMonths = 0\n",
    "        self.stayDays = 0\n",
    "\n",
    "        self.crime = crime\n",
    "        self.sentenceYears = 0\n",
    "        self.sentenceMonths = 0\n",
    "        self.sentenceDays = 0\n",
    "        \n",
    "        \n",
    "        if stayYears > sentenceYears:\n",
    "            self.stayYears = 1111111\n",
    "        else:\n",
    "            self.stayYears = stayYears"
   ]
  },
  {
   "cell_type": "markdown",
   "metadata": {},
   "source": [
    "A continuación, se muestra el **main.py** con el cual se corre el programa, este tiene importadas las dos clases anteriormente descritas y únicamente ejecuta la inicialización de las variables en la clase **UniformMaleFemale** y guarda el DataFrame en la variable `rd`"
   ]
  },
  {
   "cell_type": "code",
   "execution_count": 14,
   "metadata": {},
   "outputs": [
    {
     "name": "stdout",
     "output_type": "stream",
     "text": [
      "leyendo Data Frame\n"
     ]
    }
   ],
   "source": [
    "from ReadData import ReadData\n",
    "from UniformMaleFemale import UniformMaleFemale\n",
    "\n",
    "print(\"leyendo Data Frame\")\n",
    "rd = ReadData()"
   ]
  },
  {
   "cell_type": "markdown",
   "metadata": {},
   "source": [
    "<p style=\"text-align: justify;\"> \n",
    "Ya teniendo el archivo con los datos extraídos para analizar, se comienza a realizar algunas pruebas con ellos, por ejemplo, se busca la cantidad de hombres que responden detalladamente el tiempo que llevan dentro del penitenciario (respuestas con días, meses y años), de igual modo para las mujeres, y se busca también la cantidad de hombres y mujeres por independientes no responden a esa pregunta con tanta especificación. El código en Python para esto y los resultados obtenidos se muestran a continuación:\n"
   ]
  },
  {
   "cell_type": "code",
   "execution_count": null,
   "metadata": {},
   "outputs": [],
   "source": [
    "from ReadData import ReadData\n",
    "from UniformMaleFemale import UniformMaleFemale\n",
    "\n",
    "rd = ReadData()\n",
    "\n",
    "\n",
    "def buscaCantidad(sexo, fichero, i, j, k):\n",
    "    with open(fichero,'r') as uniform:\n",
    "        todo = 0        \n",
    "        next(uniform)\n",
    "        for lineas in uniform:\n",
    "            temp = lineas.split(',')\n",
    "            if str(temp[1]) == sexo:\n",
    "                \n",
    "                if int(temp[i]) > 0 and int(temp[j])>= 0 and int(temp[k])> 0:\n",
    "                    todo = todo + 1\n",
    "                    #print(temp)\n",
    "                    \n",
    "                else: \n",
    "                    if int(temp[i]) > 0 and int(temp[j])> 0 and int(temp[k])> 0:\n",
    "                        todo = todo + 1 \n",
    "                                     \n",
    "    \n",
    "    uniform.close()        \n",
    "    return todo\n",
    "\n",
    "\n",
    "todoH = buscaCantidad('male', 'UniformDataFrame.csv', 2, 3, 4)\n",
    "print('Hombres que responden detalladamente tiempo de estancia: ')\n",
    "print(todoH)\n",
    "\n",
    "todoM = buscaCantidad('female', 'UniformDataFrame.csv', 2, 3, 4)\n",
    "print('Mujeres que responden detalladamente tiempo de estancia: ')\n",
    "print(todoM)\n",
    "\n",
    "todoH = buscaCantidad('male', 'UniformDataFrame.csv', 6, 7, 8)\n",
    "print('Hombres que responden detalladamente tiempo de sentencia: ')\n",
    "print(todoH)\n",
    "\n",
    "todoM = buscaCantidad('female', 'UniformDataFrame.csv', 6, 7, 8)\n",
    "print('Mujeres que responden detalladamente tiempo de sentencia: ')\n",
    "print(todoM)\n"
   ]
  },
  {
   "cell_type": "code",
   "execution_count": null,
   "metadata": {},
   "outputs": [],
   "source": [
    "Hombres que responden detalladamente tiempo de estancia: \n",
    "2\n",
    "Mujeres que responden detalladamente tiempo de estancia: \n",
    "0\n",
    "Hombres que responden detalladamente tiempo de sentencia: \n",
    "10\n",
    "Mujeres que responden detalladamente tiempo de sentencia: \n",
    "1"
   ]
  },
  {
   "cell_type": "markdown",
   "metadata": {},
   "source": [
    "<p style=\"text-align: justify;\"> \n",
    "Todo este código de **Python** se reduce en Bash a una sola línea, es bueno hacer esta comparación para ver las utilidades y facilidades que brinda el **Bash**. Utilizando el `awk` se tienen resultados parecidos, se aclara parecidos ya que en el código **Python** se tienen en cuenta todas las celdas mayores a cero, y en el `awk` no. Se obtiene con este trabajo la información de que solo 2 hombres responden detalladamente al tiempo de estancia que llevan en el penitenciario, esto puede ser utilizado para analizar el estado mental o psicológico de estos. Solo 10 dos hombres responden detalladamente el tiempo de sentencia impuesto.\n"
   ]
  },
  {
   "cell_type": "code",
   "execution_count": null,
   "metadata": {},
   "outputs": [],
   "source": []
  },
  {
   "cell_type": "markdown",
   "metadata": {},
   "source": [
    "<p style=\"text-align: justify;\"> \n",
    "En los resultados anteriores se evidencia que solo dos hombres responden detalladamente el tiempo que llevan privados a la libertad, y ninguna mujer responde de esta manera. Pero si un gran número de mujeres y hombres responden sin detalles el tiempo que llevan encarcelados (296 Hombres y 144 Mujeres).\n",
    "<p style=\"text-align: justify;\">     \n",
    "Otro trabajo realizado a estos datos es con respecto al objetivo 2, calcular cuántos hombres y mujeres están privados de la libertad y aun están esperando sentencia. Con el código siguiente en Python se calcula esto, arrojando que 68 hombres y 86 mujer están bajo estas condiciones.\n"
   ]
  },
  {
   "cell_type": "code",
   "execution_count": null,
   "metadata": {},
   "outputs": [],
   "source": [
    "def CantidadNoTiempoSentecia(sexo, fichero, i, j, k):\n",
    "    with open(fichero,'r') as uniform:\n",
    "        cantidad = 0        \n",
    "        next(uniform)\n",
    "        for lineas in uniform:\n",
    "            temp = lineas.split(',')\n",
    "            if str(temp[1]) == sexo:                \n",
    "                if int(temp[i]) == 0 and int(temp[j]) == 0 and int(temp[k]) == 0:\n",
    "                    cantidad = cantidad + 1\n",
    "                    #print(temp)\n",
    "    uniform.close()        \n",
    "    return cantidad"
   ]
  },
  {
   "cell_type": "code",
   "execution_count": null,
   "metadata": {},
   "outputs": [],
   "source": [
    "Hombres sin sentencia: \n",
    "68\n",
    "Mujeres sin sentencia: \n",
    "86"
   ]
  },
  {
   "cell_type": "markdown",
   "metadata": {},
   "source": [
    "<p style=\"text-align: justify;\"> \n",
    "En el caso del estado civil de las mujeres internas y los hombres antes y después de entrar en el interno. La pregunta correspondiente al estado Civil de los internos tiene 5 respuestas:\n",
    "\n",
    "    1. Soltera\n",
    "    2. Casada\n",
    "    3. Divorciada\n",
    "    4. Viuda\n",
    "    5. Unión Libre\n",
    "<p style=\"text-align: justify;\"> \n",
    "Utilizando herramientas de Bash se llega a la información de que de las mujeres (47 Solteras, 46 Casadas, 13 Divorciadas, 13 Viudas y 55 Unión Libre) actualmente y (57 Solteras, 48 casadas, 9 Divorciadas, 7 Viudas y 49 Unión Libre) luego de entrar al penitenciario. Por estos resultados se puede ver que el estado civil de las internas varió no muy significativamente. En el caso de los hombres si varió un poco más, sobre todo en el caso de los que tenían Unión libre antes de entrar al penitenciario, poco más de la mitad varió, aunque también hubo una gran cantidad (207) que no contestaron a que estado civil tenían antes de entrar al penitenciario.\n"
   ]
  },
  {
   "cell_type": "code",
   "execution_count": 2,
   "metadata": {},
   "outputs": [
    {
     "ename": "IndentationError",
     "evalue": "unindent does not match any outer indentation level (<tokenize>, line 16)",
     "output_type": "error",
     "traceback": [
      "\u001b[1;36m  File \u001b[1;32m\"<tokenize>\"\u001b[1;36m, line \u001b[1;32m16\u001b[0m\n\u001b[1;33m    57 female,1\u001b[0m\n\u001b[1;37m    ^\u001b[0m\n\u001b[1;31mIndentationError\u001b[0m\u001b[1;31m:\u001b[0m unindent does not match any outer indentation level\n"
     ]
    }
   ],
   "source": [
    "$ awk -F ',' '{print $2 \",\" $10}' UniformDataFrame.csv | sort | uniq -c   # estado civil actual          \n",
    "     47 female,1\n",
    "     46 female,2\n",
    "     13 female,3\n",
    "     13 female,4\n",
    "     53 female,5      \n",
    "      2 male,0\n",
    "     93 male,1\n",
    "     90 male,2\n",
    "     30 male,3\n",
    "      8 male,4\n",
    "     89 male,5\n",
    "\n",
    "$ awk -F ',' '{print $2 \",\" $11}' UniformDataFrame.csv | sort | uniq -c   # estado civil antes de entrar al penitenciario\n",
    "      2 female,0\n",
    "     57 female,1\n",
    "     48 female,2\n",
    "      9 female,3\n",
    "      7 female,4\n",
    "     49 female,5      \n",
    "    207 male,0\n",
    "     24 male,1\n",
    "     38 male,2\n",
    "      3 male,3\n",
    "     40 male,5    \n"
   ]
  },
  {
   "cell_type": "markdown",
   "metadata": {},
   "source": [
    "<p style=\"text-align: justify;\"> \n",
    "Para dar cumplimiento al objetivo 5 trazado en este reporte, se comienza por saber la cantidad de internos que tienen hijos (mujeres 155 Si y 17 No, hombres 238 Si y 67 No) lo cual informa que la mayoría de los internos tienen hijos. En Python se realizó el cálculo de los hijos menores de edad y resolvió que 95 de 155 son menores de edad en el caso de las mujeres y 227 de 238 en el caso de los hombres, es decir, la mayoría son menores de edad.\n",
    " "
   ]
  },
  {
   "cell_type": "code",
   "execution_count": null,
   "metadata": {},
   "outputs": [],
   "source": [
    "$ awk -F ',' '{print $2 \",\" $12}' UniformDataFrame.csv | sort | uniq -c # Cantidad de hijos\n",
    "    155 female,1\n",
    "     17 female,2\n",
    "      7 male,0\n",
    "    238 male,1\n",
    "     67 male,2\n"
   ]
  },
  {
   "cell_type": "code",
   "execution_count": null,
   "metadata": {},
   "outputs": [],
   "source": [
    "#hijos menores de edad\n",
    "\n",
    "def HijosMenoresDeEdad(sexo, fichero, i, j, k, l, m):\n",
    "    with open(fichero,'r') as uniform:\n",
    "        cantidad = 0        \n",
    "        next(uniform)\n",
    "        for lineas in uniform:\n",
    "            temp = lineas.split(',')\n",
    "            if str(temp[1]) == sexo:                \n",
    "                if int(temp[i]) <16 and int(temp[j]) < 16 and int(temp[k]) < 16 and int(temp[l]) < 16 and int(temp[m]) < 16:\n",
    "                    cantidad = cantidad + 1\n",
    "                    #print(temp)\n",
    "    uniform.close()        \n",
    "    return cantidad\n",
    "\n",
    "HMDEM = HijosMenoresDeEdad('female', 'UniformDataFrame.csv', 13, 14, 15, 16, 17)\n",
    "print('Cantidad de hijos menores de edad (mujeres internas): ')\n",
    "print(HMDEM)\n",
    "\n",
    "HMDEH = HijosMenoresDeEdad('male', 'UniformDataFrame.csv', 13, 14, 15, 16, 17)\n",
    "print('Cantidad de hijos menores de edad (hombres internas): ')\n",
    "print(HMDEH)"
   ]
  },
  {
   "cell_type": "code",
   "execution_count": null,
   "metadata": {},
   "outputs": [],
   "source": [
    "Cantidad de hijos menores de edad (mujeres internas): \n",
    "95\n",
    "Cantidad de hijos menores de edad (hombres internas): \n",
    "227"
   ]
  },
  {
   "cell_type": "markdown",
   "metadata": {},
   "source": [
    "<p style=\"text-align: justify;\"> \n",
    "Para el caso de las mujeres vale la pena hacer un estudio y conocer un poco más sobre los hijos que nacen en el penitenciario y viven con ellas hasta los 3 años de edad. Por medio de herramientas **Bash** se obtuvo que 19 mujeres viven con su hijo en prisión y 17 de ellos fueron nacidos allí.   \n",
    "    \n",
    "Viendo la cantidad de mujeres que tienen hijos y luego cuantos menores de edad. Ver si cuentan con servicio medico IMSS o Popular.\n"
   ]
  },
  {
   "cell_type": "code",
   "execution_count": null,
   "metadata": {},
   "outputs": [],
   "source": [
    "$ awk -F ',' '{print $2 \",    \" $25}' UniformDataFrame.csv | sort | uniq -c # Cuantos hijos nacen en prisión\n",
    "      1 gender,    howManyBornInPrisonFOAQ\n",
    "    148 female,    0\n",
    "     17 female,    1\n",
    "      7 female,    2    \n",
    "\n",
    "$ awk -F ',' '{print $2 \",    \" $26}' UniformDataFrame.csv | sort | uniq -c # Cuantos hijos viven en prisión\n",
    "      1 gender,    childrenLiveInPrisonFOAQ\n",
    "    111 female,    0\n",
    "     19 female,    1\n",
    "     42 female,    2"
   ]
  }
 ],
 "metadata": {
  "kernelspec": {
   "display_name": "Python 3",
   "language": "python",
   "name": "python3"
  },
  "language_info": {
   "codemirror_mode": {
    "name": "ipython",
    "version": 3
   },
   "file_extension": ".py",
   "mimetype": "text/x-python",
   "name": "python",
   "nbconvert_exporter": "python",
   "pygments_lexer": "ipython3",
   "version": "3.7.1"
  }
 },
 "nbformat": 4,
 "nbformat_minor": 2
}
