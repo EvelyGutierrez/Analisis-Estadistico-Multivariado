{
 "cells": [
  {
   "cell_type": "markdown",
   "metadata": {},
   "source": [
    "\n",
    "# REPORTE PRÁCTICA 2:  Lectura y manipulación de datos con pandas\n",
    "\n",
    "# Análisis de Datos Multivariado \n",
    "\n",
    "#  Caso de Estudio: \n",
    "## Condiciones en los Centros de Reinserción Social CERESO y Topo Chico   \n",
    "\n",
    "\n",
    "####    Evely Gutiérrez Noda     # 1935050\n",
    "\n",
    "-----\n",
    "\n",
    "# Introducción\n",
    "\n",
    "<p style=\"text-align: justify;\">\n",
    "En el siguiente reporte se analiza el caso de estudio que permitirá evaluar las condiciones de reinserción social dentro del CERESO \"Apodaca\" y dentro del Centro Preventivo de Reinserción Topo Chico. Los datos que se usan para este estudio provienen de encuestas realizadas a mujeres y hombres por separado, que se encuentran privados de libertad dentro del Centro de Reinserción. Con este cuestionario se pretende evaluar las condiciones de vida, económicas, educativas y familiares de estas personas, así como las condiciones de los penitenciarios.\n",
    "<p style=\"text-align: justify;\">    \n",
    "El objetivo de este reporte es cargar los datos a un Data Frames utilizando la libreria Pandas, ya que los datos estan en formato **.CSV** y es una gran cantidad de información que al abrirlos en un Ecxel se perderían columnas. Se presentan los ejemplos de trabajos con la libreria Pandas, en este caso de estudio se pretende alcanzar objetivos como:\n",
    "\n",
    "1. Unificar datos seleccionados de las encuestas de hombres y de mujeres en un fichero nuevo **.CSV**.\n",
    "2. Agregar columnas en común para hombres y mujeres para garantizar un mejor procesamiento de los datos.\n",
    "3. Determinar que tiempo llevan privados a la libertad hombres y mujeres que aun estan esperando sentencia.\n",
    "\n",
    "\n",
    "Además se refleja el trabajo realizado con la libreria Pandas en algunos ejemplos de:\n",
    "\n",
    "- Leer el data frames de archivos resultantes.\n",
    "- Guardar el data frames en un fichero con formato **.CSV**.\n",
    "- Agregar columnas de pruebas en el data frames.\n",
    "- Combinar dos o más data frames (ej. el de hombres con el de mujeres).\n",
    "- Realizar filtros a los renglones de un data frame para practicar el trabajo con la librería Pandas.\n",
    "\n",
    "<p style=\"text-align: justify;\">\n",
    "Para comenzar la lectura de datos y cargarlos en un Data Frame, se necesita importar la librería Pandas, esto se logra con el siguiente código en la consola."
   ]
  },
  {
   "cell_type": "code",
   "execution_count": null,
   "metadata": {},
   "outputs": [],
   "source": [
    "$ pip3 install pandas"
   ]
  },
  {
   "cell_type": "markdown",
   "metadata": {},
   "source": [
    "<p style=\"text-align: justify;\">\n",
    "Ya teniendo instalado pandas, se comienza la lectura de datos con el siguiente código en **Python 3**. Primero se crea una clase llamada **ReadData** para la lectura del fichero **uniform.csv** usando la libreria pandas mediante la variable `pd`."
   ]
  },
  {
   "cell_type": "code",
   "execution_count": null,
   "metadata": {},
   "outputs": [],
   "source": [
    "import pandas as pd\n",
    "import numpy as np\n",
    "\n",
    "class ReadData:\n",
    "    \n",
    "    def __init__(self):       \n",
    "        self.procesarUniform()\n",
    "        \n",
    "    def procesarUniform(self):\n",
    "        uniform = pd.read_csv('uniform.csv')\n",
    "        uniform['gender'] = uniform['gender']\n",
    "        uniform['stayYears'] = uniform['stayYears'].replace(np.nan, 0)\n",
    "        uniform['stayMonths'] = uniform['stayMonths'].replace(np.nan, 0)\n",
    "        uniform['stayDays'] = uniform['stayDays'].replace(np.nan, 0)\n",
    "        uniform['crime'] = uniform['crime'].replace(np.nan, 'No Contesto')\n",
    "        uniform['sentenceYears'] = uniform['sentenceYears'].replace(np.nan, 0)\n",
    "        uniform['sentenceMonths'] = uniform['sentenceMonths'].replace(np.nan, 0)\n",
    "        uniform['sentenceDays'] = uniform['sentenceDays'].replace(np.nan, 0)\n",
    "        uniform[['gender','stayYears','stayMonths','stayDays','crime','sentenceYears', 'sentenceMonths','sentenceDays']].to_csv('UniformDataFrame.csv')\n",
    "        "
   ]
  }
 ],
 "metadata": {
  "kernelspec": {
   "display_name": "Python 3",
   "language": "python",
   "name": "python3"
  },
  "language_info": {
   "codemirror_mode": {
    "name": "ipython",
    "version": 3
   },
   "file_extension": ".py",
   "mimetype": "text/x-python",
   "name": "python",
   "nbconvert_exporter": "python",
   "pygments_lexer": "ipython3",
   "version": "3.7.1"
  }
 },
 "nbformat": 4,
 "nbformat_minor": 2
}
