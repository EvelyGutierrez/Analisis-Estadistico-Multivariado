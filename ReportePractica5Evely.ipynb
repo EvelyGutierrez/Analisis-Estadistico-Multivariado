{
 "cells": [
  {
   "cell_type": "markdown",
   "metadata": {},
   "source": [
    "# REPORTE PRÁCTICA 5: Pruebas estadísticas\n",
    "\n",
    "# Análisis de Datos Multivariado \n",
    "\n",
    "#  Caso de Estudio: \n",
    "## Condiciones en los Centros de Reinserción Social CERESO y Topo Chico   \n",
    "\n",
    "\n",
    "####    Evely Gutiérrez Noda     #1935050\n",
    "\n",
    "\n",
    "# Introducción\n",
    "\n",
    "En el siguiente reporte se analiza el caso de estudio que permitirá evaluar las condiciones de reinserción social dentro del CERESO \"Apodaca\" y dentro del Centro Preventivo de Reinserción Topo Chico. Los datos que se usan para este estudio provienen de encuestas realizadas a mujeres y hombres, que se encuentran privados de libertad dentro del Centro de Reinserción. \n",
    "La práctica anterior mostró varias gráficas que permitieron asumir algunas conclusiones a partir de la información capturada de las encuestas. El objetivo de esta práctica es realizar pruebas de hipótesis para poder comprobar o no lo asumido en la práctica anterior.\n",
    "    \n",
    "# Desarrollo\n",
    "Se presume que existe alguna relación entre la edad que tienen los internos y el tipo de crimen que que cometieron, así mismo sucede entre el nivel de educación que tienen los internos con el crimen cometido y por ende con los años de sentencia impuestos. En el siguiente reporte se verifica esta relación por medio de pruebas estadísticas, y se analiza los hombres y mujeres por separados.\n",
    "Primeramente se recuerda que la media de las edades de los internos hombres y mujeres tienen una media entre los 35 y 36 años, luego se agreguemos una línea vertical para marcar 35 para marcar esta media. Se realizó lo mismo para el caso de los años de sentencia dependiendo el genero, donde la media es 14 para los hombres y 16 para las mujeres. El histograma es un gráfico simple y comúnmente usado para verificar rápidamente la distribución de una muestra de datos [Normality Assumption](https://machinelearningmastery.com/a-gentle-introduction-to-normality-tests-in-python/)."
   ]
  },
  {
   "cell_type": "code",
   "execution_count": 6,
   "metadata": {},
   "outputs": [
    {
     "name": "stdout",
     "output_type": "stream",
     "text": [
      "media edad por genero\n",
      "male\n",
      "35.092948717948715\n",
      "media sentencia por genero\n",
      "male\n",
      "14.94238683127572\n",
      "media edad por genero\n",
      "female\n",
      "35.72514619883041\n",
      "media sentencia por genero\n",
      "female\n",
      "16.523255813953487\n"
     ]
    }
   ],
   "source": [
    "import pandas as pd\n",
    "\n",
    "data3 = pd.read_csv('practica3ok.csv')     \n",
    "for cri in data3.gender.unique():            \n",
    "    print('media edad por genero')\n",
    "    print(cri)    \n",
    "    print(data3.loc[data3.gender == cri]['age'].mean())\n",
    "    \n",
    "    print('media sentencia por genero')\n",
    "    print(cri) \n",
    "    print(data3.loc[data3.gender == cri]['sentenceYears'].mean())\n",
    "    \n",
    "\n",
    "    \n"
   ]
  },
  {
   "cell_type": "markdown",
   "metadata": {},
   "source": [
    "***Histograma de las edades de los internos hombres***"
   ]
  },
  {
   "cell_type": "code",
   "execution_count": 1,
   "metadata": {},
   "outputs": [
    {
     "name": "stderr",
     "output_type": "stream",
     "text": [
      "C:\\ProgramData\\Anaconda3\\lib\\site-packages\\IPython\\core\\display.py:689: UserWarning:\n",
      "\n",
      "Consider using IPython.display.IFrame instead\n",
      "\n"
     ]
    },
    {
     "data": {
      "text/html": [
       "<iframe id=\"igraph\" scrolling=\"no\" style=\"border:none;\" seamless=\"seamless\" src=\"https://plot.ly/~evely/136.embed\" height=\"525px\" width=\"100%\"></iframe>"
      ],
      "text/plain": [
       "<plotly.tools.PlotlyDisplay object>"
      ]
     },
     "execution_count": 1,
     "metadata": {},
     "output_type": "execute_result"
    }
   ],
   "source": [
    "import pandas as pd\n",
    "from statsmodels.graphics.gofplots import qqplot\n",
    "import matplotlib as plt\n",
    "from numpy.random import randn\n",
    "from numpy import concatenate\n",
    "import plotly.graph_objs as go\n",
    "import plotly.plotly as py\n",
    "\n",
    "d = pd.read_csv(\"practica3ok.csv\")\n",
    "\n",
    "m = d.loc[d.gender == 'male'].age\n",
    "\n",
    "layout = {'xaxis': {'range': [0, 100]}, 'yaxis': {'range': [0, 1]}, \\\n",
    "    'shapes': [{'type': 'line', 'x0': 35, 'y0': 0, 'x1': 35, 'y1': 1, \\\n",
    "            'line': {'color': 'rgb(255, 0, 0)', 'width': 2}}]}\n",
    "\n",
    "\n",
    "py.iplot({'data': [go.Histogram(x = m, histnorm='probability')], 'layout': layout}, filename='male_edad')"
   ]
  },
  {
   "cell_type": "markdown",
   "metadata": {},
   "source": [
    "***Histograma de las edades de las internas mujeres***"
   ]
  },
  {
   "cell_type": "code",
   "execution_count": 26,
   "metadata": {},
   "outputs": [
    {
     "name": "stderr",
     "output_type": "stream",
     "text": [
      "C:\\ProgramData\\Anaconda3\\lib\\site-packages\\IPython\\core\\display.py:689: UserWarning:\n",
      "\n",
      "Consider using IPython.display.IFrame instead\n",
      "\n"
     ]
    },
    {
     "data": {
      "text/html": [
       "<iframe id=\"igraph\" scrolling=\"no\" style=\"border:none;\" seamless=\"seamless\" src=\"https://plot.ly/~evely/138.embed\" height=\"525px\" width=\"100%\"></iframe>"
      ],
      "text/plain": [
       "<plotly.tools.PlotlyDisplay object>"
      ]
     },
     "execution_count": 26,
     "metadata": {},
     "output_type": "execute_result"
    }
   ],
   "source": [
    "import pandas as pd\n",
    "from statsmodels.graphics.gofplots import qqplot\n",
    "import matplotlib as plt\n",
    "from numpy.random import randn\n",
    "from numpy import concatenate\n",
    "import plotly.graph_objs as go\n",
    "import plotly.plotly as py\n",
    "\n",
    "d = pd.read_csv(\"practica3ok.csv\")\n",
    "fe = d.loc[d.gender == 'female'].age \n",
    "\n",
    "\n",
    "layout = {'xaxis': {'range': [0, 100]}, 'yaxis': {'range': [0, 1]}, \\\n",
    "    'shapes': [{'type': 'line', 'x0': 36, 'y0': 0, 'x1': 36, 'y1': 1, \\\n",
    "            'line': {'color': 'rgb(255, 0, 0)', 'width': 2}}]}\n",
    "\n",
    "py.iplot({'data': [go.Histogram(x = fe, histnorm='probability')], 'layout': layout}, filename='female_edad')\n"
   ]
  },
  {
   "cell_type": "markdown",
   "metadata": {},
   "source": [
    "***Histograma de la sentencia de los hombres***"
   ]
  },
  {
   "cell_type": "code",
   "execution_count": 24,
   "metadata": {},
   "outputs": [
    {
     "name": "stderr",
     "output_type": "stream",
     "text": [
      "C:\\ProgramData\\Anaconda3\\lib\\site-packages\\IPython\\core\\display.py:689: UserWarning:\n",
      "\n",
      "Consider using IPython.display.IFrame instead\n",
      "\n"
     ]
    },
    {
     "data": {
      "text/html": [
       "<iframe id=\"igraph\" scrolling=\"no\" style=\"border:none;\" seamless=\"seamless\" src=\"https://plot.ly/~evely/134.embed\" height=\"525px\" width=\"100%\"></iframe>"
      ],
      "text/plain": [
       "<plotly.tools.PlotlyDisplay object>"
      ]
     },
     "execution_count": 24,
     "metadata": {},
     "output_type": "execute_result"
    }
   ],
   "source": [
    "import pandas as pd\n",
    "from statsmodels.graphics.gofplots import qqplot\n",
    "import matplotlib as plt\n",
    "from numpy.random import randn\n",
    "from numpy import concatenate\n",
    "import plotly.graph_objs as go\n",
    "import plotly.plotly as py\n",
    "\n",
    "d = pd.read_csv(\"practica3ok.csv\")\n",
    "\n",
    "m = d.loc[d.gender == 'male'].sentenceYears\n",
    "\n",
    "layout = {'xaxis': {'range': [0, 50]}, 'yaxis': {'range': [0, 1]}, \\\n",
    "    'shapes': [{'type': 'line', 'x0': 14, 'y0': 0, 'x1': 14, 'y1': 1, \\\n",
    "            'line': {'color': 'rgb(255, 0, 0)', 'width': 2}}]}\n",
    "\n",
    "\n",
    "py.iplot({'data': [go.Histogram(x = m, histnorm='probability')], 'layout': layout}, filename='male_sentencia')"
   ]
  },
  {
   "cell_type": "markdown",
   "metadata": {},
   "source": [
    "***Histograma de la sentencia de las mujeres***"
   ]
  },
  {
   "cell_type": "code",
   "execution_count": 23,
   "metadata": {},
   "outputs": [
    {
     "name": "stderr",
     "output_type": "stream",
     "text": [
      "C:\\ProgramData\\Anaconda3\\lib\\site-packages\\IPython\\core\\display.py:689: UserWarning:\n",
      "\n",
      "Consider using IPython.display.IFrame instead\n",
      "\n"
     ]
    },
    {
     "data": {
      "text/html": [
       "<iframe id=\"igraph\" scrolling=\"no\" style=\"border:none;\" seamless=\"seamless\" src=\"https://plot.ly/~evely/132.embed\" height=\"525px\" width=\"100%\"></iframe>"
      ],
      "text/plain": [
       "<plotly.tools.PlotlyDisplay object>"
      ]
     },
     "execution_count": 23,
     "metadata": {},
     "output_type": "execute_result"
    }
   ],
   "source": [
    "import pandas as pd\n",
    "from statsmodels.graphics.gofplots import qqplot\n",
    "import matplotlib as plt\n",
    "from numpy.random import randn\n",
    "from numpy import concatenate\n",
    "import plotly.graph_objs as go\n",
    "import plotly.plotly as py\n",
    "\n",
    "d = pd.read_csv(\"practica3ok.csv\")\n",
    "\n",
    "m = d.loc[d.gender == 'female'].sentenceYears\n",
    "\n",
    "layout = {'xaxis': {'range': [0, 50]}, 'yaxis': {'range': [0, 1]}, \\\n",
    "    'shapes': [{'type': 'line', 'x0': 16, 'y0': 0, 'x1': 16, 'y1': 1, \\\n",
    "            'line': {'color': 'rgb(255, 0, 0)', 'width': 2}}]}\n",
    "\n",
    "\n",
    "py.iplot({'data': [go.Histogram(x = m, histnorm='probability')], 'layout': layout}, filename='female_sentencia')"
   ]
  },
  {
   "cell_type": "markdown",
   "metadata": {},
   "source": [
    "Los histogramas anteriores se usan para tener una idea de si los dstos utilizados pudieran ser normales o si se ven bimodal. Se puede apreciar que la distribución no es muy parecida a la gaussiana, se puede ver una forma similar a la de Gauss cuando el histograma tiene una forma aproximada a una campana.\n",
    "Se calcula la desviación estandar de la muestra de los datos a analizar con el código siguiente, para poder realizar la prueba de normalidad a estos datos. Se utiliza la función `randn()` de la librería **NumPy** para generar números gaussianos aleatorios con una media y una desviación estándar que se obtiene de los datos a analizar que se describen en el siguiente código. Estos nuevos datos generados se les llama datos auxiliares para comparar visualmente cuando los datos pueden ser normalmente distribuidos, unimodales y bimodales.\n",
    "Se agrega además una línea vertical para marcar 35 que es la media de las edades de los internos, y luego la linea roja estara en 15 que es la media de los años de sentencia de los internos, al igual que en los histogramas anteriores."
   ]
  },
  {
   "cell_type": "code",
   "execution_count": 5,
   "metadata": {},
   "outputs": [
    {
     "name": "stdout",
     "output_type": "stream",
     "text": [
      "male\n",
      "desviacion estandar edad\n",
      "13.649529688984915\n",
      "male\n",
      "desviacion estandar sentencia\n",
      "12.731361910560755\n",
      "female\n",
      "desviacion estandar edad\n",
      "10.387798801916043\n",
      "female\n",
      "desviacion estandar sentencia\n",
      "15.77393736082406\n"
     ]
    }
   ],
   "source": [
    "import pandas as pd\n",
    "\n",
    "data3 = pd.read_csv('practica3ok.csv')     \n",
    "for cri in data3.gender.unique():\n",
    "    print(cri) \n",
    "    print('desviacion estandar edad')\n",
    "    print(data3.loc[data3.gender == cri]['age'].std())\n",
    "    \n",
    "    print(cri)\n",
    "    print('desviacion estandar sentencia')\n",
    "    print(data3.loc[data3.gender == cri]['sentenceYears'].std())"
   ]
  },
  {
   "cell_type": "code",
   "execution_count": 42,
   "metadata": {},
   "outputs": [
    {
     "name": "stdout",
     "output_type": "stream",
     "text": [
      "<iframe id=\"igraph\" scrolling=\"no\" style=\"border:none;\" seamless=\"seamless\" src=\"https://plot.ly/~evely/150.embed\" height=\"525px\" width=\"100%\"></iframe>\n"
     ]
    },
    {
     "name": "stderr",
     "output_type": "stream",
     "text": [
      "C:\\ProgramData\\Anaconda3\\lib\\site-packages\\IPython\\core\\display.py:689: UserWarning:\n",
      "\n",
      "Consider using IPython.display.IFrame instead\n",
      "\n"
     ]
    }
   ],
   "source": [
    "import plotly.plotly as py\n",
    "import plotly.graph_objs as go\n",
    "import pandas as pd\n",
    "import ssl\n",
    "import plotly.plotly as py\n",
    "\n",
    "\n",
    "d = pd.read_csv(\"practica3ok.csv\")\n",
    "\n",
    "m = d.loc[d.gender == 'male'].sentenceYears\n",
    "\n",
    "layout = {'xaxis': {'range': [0, 50]}, 'yaxis': {'range': [0, 1]}, \\\n",
    "    'shapes': [{'type': 'line', 'x0': 14, 'y0': 0, 'x1': 14, 'y1': 1, \\\n",
    "            'line': {'color': 'rgb(255, 0, 0)', 'width': 2}}]}\n",
    "\n",
    "\n",
    "from numpy.random import randn\n",
    "from numpy.random import seed\n",
    "from numpy import concatenate\n",
    "\n",
    "seed(7) \n",
    "unimodal = 13 * randn(1000) + 14 # varianza y media \n",
    "bimodal = concatenate((unimodal, 6 * randn(1000) + 10))\n",
    "print((py.iplot({'data': [go.Histogram(x = unimodal, histnorm='probability')], 'layout': layout}, \\\n",
    "                filename=\"unimodal_male_sentencia\")).embed_code)\n",
    "print((py.iplot({'data': [go.Histogram(x = bimodal, histnorm='probability')], 'layout': layout}, \\\n",
    "                filename=\"bimodal_male_sentencia\")).embed_code)\n"
   ]
  },
  {
   "cell_type": "markdown",
   "metadata": {},
   "source": [
    "***Histograma Unimodal sentencia hombres (datos auxiliares)***"
   ]
  },
  {
   "attachments": {
    "image.png": {
     "image/png": "[encoded data removed]"
    }
   },
   "cell_type": "markdown",
   "metadata": {},
   "source": [
    "![image.png](attachment:image.png)"
   ]
  },
  {
   "cell_type": "markdown",
   "metadata": {},
   "source": [
    "***Histograma Bimodal sentencia hombres (datos auxiliares)***"
   ]
  },
  {
   "attachments": {
    "image.png": {
     "image/png": "[encoded data removed]"
    }
   },
   "cell_type": "markdown",
   "metadata": {},
   "source": [
    "![image.png](attachment:image.png)"
   ]
  },
  {
   "cell_type": "markdown",
   "metadata": {},
   "source": [
    "Todos los diagramas mostrados y los referentes a los datos de sentencias de hombres y mujeres estan disponibles en [esta página](https://github.com/EvelyGutierrez/Analisis-Estadistico-Multivariado/tree/master/DiagramasPractica5).\n",
    "<p style=\"text-align: justify;\">Se observa una forma similar a la de Gauss en los datos graficados auxiliares, que aunque no es fuertemente la forma de la campana, es una aproximación. \n",
    "\n",
    "Otra gráfica que permite verificar la distribución de una muestra de datos es la gráfica de **cuantiles-cuantiles** o gráfica QQ para abreviar. Estas gráficas generan su propia muestra de la distribución idealizada con la que se esta comparando, en este caso la distribución gaussiana. Estos graficos QQ se realizar con el siguiente código usando la función `qqplot()`. Esta función toma la muestra de datos y la compara con una distribución gaussiana. Se dibuja una línea roja estandarizada que establece la presencia de distribución gaussiana.    "
   ]
  },
  {
   "cell_type": "code",
   "execution_count": 50,
   "metadata": {},
   "outputs": [
    {
     "data": {
      "image/png": "[encoded data removed]",
      "text/plain": [
       "<Figure size 432x288 with 1 Axes>"
      ]
     },
     "metadata": {
      "needs_background": "light"
     },
     "output_type": "display_data"
    },
    {
     "data": {
      "image/png": "[encoded data removed]",
      "text/plain": [
       "<Figure size 432x288 with 1 Axes>"
      ]
     },
     "metadata": {
      "needs_background": "light"
     },
     "output_type": "display_data"
    },
    {
     "data": {
      "image/png": "[encoded data removed]",
      "text/plain": [
       "<Figure size 432x288 with 1 Axes>"
      ]
     },
     "metadata": {
      "needs_background": "light"
     },
     "output_type": "display_data"
    },
    {
     "data": {
      "image/png": "[encoded data removed]",
      "text/plain": [
       "<Figure size 432x288 with 1 Axes>"
      ]
     },
     "metadata": {
      "needs_background": "light"
     },
     "output_type": "display_data"
    }
   ],
   "source": [
    "import pandas as pd\n",
    "from statsmodels.graphics.gofplots import qqplot\n",
    "import matplotlib as plt\n",
    "\n",
    "\n",
    "d = pd.read_csv(\"practica3ok.csv\")\n",
    "m = d.loc[d.gender == 'female'].age # mujeres edad\n",
    "m1 = d.loc[d.gender == 'female'].sentenceYears # mujeres sentencia\n",
    "h = d.loc[d.gender == 'male'].age # hombres edad\n",
    "h1 = d.loc[d.gender == 'male'].sentenceYears # hombres sentencia\n",
    "\n",
    "f = qqplot(m, line='s')\n",
    "f = qqplot(m1, line='s')\n",
    "f = qqplot(h, line='s')\n",
    "f = qqplot(h1, line='s')\n"
   ]
  },
  {
   "cell_type": "markdown",
   "metadata": {},
   "source": [
    "En las gráficas anteriores se puede ver que: \n",
    "\n",
    "- Las edades de las mujeres casi hace una recta \n",
    "- Los años de sentencia de las mujeres NO parecen normales sino más bien bimodales\n",
    "- Las edades de los hombres SI parecen comportarse normales, ya que aparece la ralla roja.\n",
    "- Los años de sentencia de los hombres NO parecen normales sino más bien bimodales\n"
   ]
  },
  {
   "cell_type": "markdown",
   "metadata": {},
   "source": [
    "Otra prueba realizada es la de ***Shapiro-Wilk***, la cual evalúa una muestra de datos y cuantifica la probabilidad de que los datos provienen de una distribución gaussiana o no. La función `shapiro()` devuelve el estadístico W calculado por la prueba como el valor p."
   ]
  },
  {
   "cell_type": "code",
   "execution_count": 7,
   "metadata": {},
   "outputs": [
    {
     "name": "stdout",
     "output_type": "stream",
     "text": [
      "female_Edad 0.95 0.000\n",
      "No se ve gaussiana la muestra (rechazar H0), alpha:  0.05\n",
      "female_Sentencia 0.75 0.000\n",
      "No se ve gaussiana la muestra (rechazar H0), alpha:  0.05\n",
      "male_edad 0.94 0.000\n",
      "No se ve gaussiana la muestra (rechazar H0), alpha:  0.05\n",
      "male_Sentencia 0.82 0.000\n",
      "No se ve gaussiana la muestra (rechazar H0), alpha:  0.05\n",
      "unim 1.00 0.834\n",
      "Si se ve gaussiana la muestra (no se puede rechazar H0), alpha:  0.05\n",
      "bim 0.98 0.000\n",
      "No se ve gaussiana la muestra (rechazar H0), alpha:  0.05\n",
      "female_Edad 0.95 0.000\n",
      "No se ve gaussiana la muestra (rechazar H0), alpha:  0.01\n",
      "female_Sentencia 0.75 0.000\n",
      "No se ve gaussiana la muestra (rechazar H0), alpha:  0.01\n",
      "male_edad 0.94 0.000\n",
      "No se ve gaussiana la muestra (rechazar H0), alpha:  0.01\n",
      "male_Sentencia 0.82 0.000\n",
      "No se ve gaussiana la muestra (rechazar H0), alpha:  0.01\n",
      "unim 1.00 0.834\n",
      "Si se ve gaussiana la muestra (no se puede rechazar H0), alpha:  0.01\n",
      "bim 0.98 0.000\n",
      "No se ve gaussiana la muestra (rechazar H0), alpha:  0.01\n"
     ]
    }
   ],
   "source": [
    "# Shapiro-Wilk Test\n",
    "import pandas as pd\n",
    "from numpy.random import randn\n",
    "from numpy.random import seed\n",
    "from numpy import concatenate, isnan\n",
    "import ssl\n",
    "\n",
    "if getattr(ssl, '_create_unverified_context', None):\n",
    "    ssl._create_default_https_context = ssl._create_unverified_context\n",
    "d = pd.read_csv(\"practica3ok.csv\")\n",
    "\n",
    "seed(7)\n",
    "nd = 20 * randn(1000) + 35\n",
    "datos = {'female_Edad': d.loc[d.gender == 'female'].age , \\\n",
    "         'female_Sentencia': d.loc[d.gender == 'female'].sentenceYears, \\\n",
    "         'male_edad': d.loc[d.gender == 'male'].age, \\\n",
    "         'male_Sentencia': d.loc[d.gender == 'male'].sentenceYears, \\\n",
    "         'unim': nd, \\\n",
    "         'bim': concatenate((nd, 10 * randn(1000) + 20))}\n",
    "\n",
    "from scipy.stats import shapiro\n",
    "\n",
    "for alpha in [0.05, 0.01]:\n",
    "    for data in datos:\n",
    "        da = datos[data]\n",
    "        s, p = shapiro(da[~isnan(da)]) \n",
    "        print('{:s} {:.2f} {:.3f}'.format(data, s, p))\n",
    "        if p > alpha:\n",
    "            print('Si se ve gaussiana la muestra (no se puede rechazar H0), alpha: ', alpha)\n",
    "        else:\n",
    "            print('No se ve gaussiana la muestra (rechazar H0), alpha: ', alpha)"
   ]
  },
  {
   "cell_type": "markdown",
   "metadata": {},
   "source": [
    "Con esta prueba de estadistica se evidencia que nada mas pasan la prueba de normalidad son los datos auxiliares unimodales, por tanto se realizan además pruebas no paramétricas.\n",
    "La prueba de ***Kruskal-Wallis*** es una versión no paramétrica del análisis de varianza o ANOVA para abreviar, esta prueba se puede usar para determinar si más de dos muestras independientes tienen una distribución diferente. Cada muestra de datos debe ser independiente y pueden diferir en tamaño. En la siguiente prueba que se realizó se intenta comprobar que factores pueden influir en que se cometa determinado crimen, los factores pueden ser la edad, el genero, la educación, si tenia trabajo o no, y la cantidad de hijos. "
   ]
  },
  {
   "cell_type": "code",
   "execution_count": 59,
   "metadata": {},
   "outputs": [
    {
     "name": "stdout",
     "output_type": "stream",
     "text": [
      "edad 9 0 2 5 6 18 17 11 14 26 16 20 18 17 17 20 13 15 16 15 12 17 16 18 7 17 10 9 11 3 12 6 2 9 3 2 6 5 3 2 2 2 1 3 1 2 2 2 1 1 4 1 1 0 0 nan nan\n",
      "hay por lo menos un factor que causa diferencia con nivel de significancia 0.05\n",
      "edad 9 0 2 5 6 18 17 11 14 26 16 20 18 17 17 20 13 15 16 15 12 17 16 18 7 17 10 9 11 3 12 6 2 9 3 2 6 5 3 2 2 2 1 3 1 2 2 2 1 1 4 1 1 0 0 nan nan\n",
      "hay por lo menos un factor que causa diferencia con nivel de significancia 0.01\n",
      "genero 167 302 2.13 0.144\n",
      "No parece causar diferencia con nivel de significancia 0.05\n",
      "genero 167 302 2.13 0.144\n",
      "No parece causar diferencia con nivel de significancia 0.01\n",
      "educacion 3 25 13 65 108 1 231 13 6.80 0.450\n",
      "No parece causar diferencia con nivel de significancia 0.05\n",
      "educacion 3 25 13 65 108 1 231 13 6.80 0.450\n",
      "No parece causar diferencia con nivel de significancia 0.01\n",
      "numero de hijos 20 76 114 100 53 24 5 3 2 1 1 2.79 0.986\n",
      "No parece causar diferencia con nivel de significancia 0.05\n",
      "numero de hijos 20 76 114 100 53 24 5 3 2 1 1 2.79 0.986\n",
      "No parece causar diferencia con nivel de significancia 0.01\n",
      "Tenia trabajo 141 23 0.35 0.553\n",
      "No parece causar diferencia con nivel de significancia 0.05\n",
      "Tenia trabajo 141 23 0.35 0.553\n",
      "No parece causar diferencia con nivel de significancia 0.01\n"
     ]
    }
   ],
   "source": [
    "# Kruskal-Wallis H-test\n",
    "from numpy.random import seed\n",
    "from numpy.random import randn\n",
    "from scipy.stats import kruskal\n",
    "from numpy import concatenate, isnan\n",
    "import ssl\n",
    "import pandas as pd\n",
    "\n",
    "if getattr(ssl, '_create_unverified_context', None):\n",
    "    ssl._create_default_https_context = ssl._create_unverified_context\n",
    "d = pd.read_csv(\"practica3ok.csv\")\n",
    "\n",
    "from scipy.stats import kruskal\n",
    "\n",
    "array = dict()\n",
    "\n",
    "array['edad'] = [pedazo[1].crime.dropna() for pedazo in d.groupby(['age'])]\n",
    "array['genero'] = [pedazo[1].crime.dropna() for pedazo in d.groupby(['gender'])]\n",
    "array['educacion'] = [pedazo[1].crime.dropna() for pedazo in d.groupby(['education'])]\n",
    "array['numero de hijos'] = [pedazo[1].crime.dropna() for pedazo in d.groupby(['numberOfChildren'])]\n",
    "array['Tenia trabajo'] = [pedazo[1].crime.dropna() for pedazo in d.groupby(['workedBeforeFOAQ'])]\n",
    "\n",
    "\n",
    "for datos in array:\n",
    "    niv = array[datos]\n",
    "\n",
    "    for alpha in [0.05, 0.01]:\n",
    "        s, p = kruskal(*niv)\n",
    "        print('{:s} {:s} {:.2f} {:.3f}'.format(datos, ' '.join([str(len(n)) for n in niv]), s, p))\n",
    "        if p > alpha:\n",
    "            print('No parece causar diferencia con nivel de significancia', alpha)\n",
    "        else:\n",
    "            print('hay por lo menos un factor que causa diferencia con nivel de significancia', alpha)\n"
   ]
  },
  {
   "cell_type": "markdown",
   "metadata": {},
   "source": [
    "El único caso donde se ve diferencia es en la edad de los internos, con significancia de 0.01, entonces sí hay diferencia estadísticamente significativa en que la edad de las personas puede influir en el delito a cometer.  \n",
    "La prueba **Friedman Test** es la versión no paramétrica del análisis de la varianza del análisis de medidas repetidas o ANOVA de medidas repetidas. La prueba puede considerarse como una generalización de la Prueba H de Kruskal-Wallis a más de dos muestras. La hipótesis nula, indica que las muestras pareadas tienen la misma distribución. Un rechazo de la hipótesis nula indica que una o más de las muestras pareadas tienen una distribución diferente.\n",
    "Se implementa esta prueba utilizando la función `friedmanchisquare()`. Esta función toma como argumentos las muestras de datos para comparar y devuelve la estadística calculada y el valor p."
   ]
  },
  {
   "cell_type": "code",
   "execution_count": 55,
   "metadata": {
    "scrolled": false
   },
   "outputs": [
    {
     "name": "stdout",
     "output_type": "stream",
     "text": [
      "Diferentes distribuciones (rechazar H0), alpha 0.05\n",
      "Diferentes distribuciones (rechazar H0), alpha 0.01\n"
     ]
    }
   ],
   "source": [
    "# Friedman test\n",
    "from numpy.random import seed\n",
    "from numpy.random import randn\n",
    "from scipy.stats import kruskal\n",
    "from numpy import concatenate, isnan\n",
    "import ssl\n",
    "import pandas as pd\n",
    "\n",
    "if getattr(ssl, '_create_unverified_context', None):\n",
    "    ssl._create_default_https_context = ssl._create_unverified_context\n",
    "d = pd.read_csv(\"practica3ok.csv\")\n",
    "\n",
    "from scipy.stats import friedmanchisquare\n",
    "# seed the random number generator\n",
    "seed(1)\n",
    "data1= d.sentenceYears\n",
    "data2 = d.numberOfChildren\n",
    "data3 = d.age\n",
    "\n",
    "stat, p = friedmanchisquare(data1, data2, data3)\n",
    "\n",
    "alpha = 0.05\n",
    "if p > alpha:\n",
    "\tprint('Las mismas distribuciones (no rechazar H0), alpha 0.05')\n",
    "else:\n",
    "\tprint('Diferentes distribuciones (rechazar H0), alpha 0.05')\n",
    "\n",
    "alpha = 0.01\n",
    "if p > alpha:\n",
    "\tprint('Las mismas distribuciones (no rechazar H0, alpha 0.01)')\n",
    "else:\n",
    "\tprint('Diferentes distribuciones (rechazar H0), alpha 0.01')"
   ]
  },
  {
   "cell_type": "code",
   "execution_count": null,
   "metadata": {},
   "outputs": [],
   "source": []
  },
  {
   "cell_type": "code",
   "execution_count": null,
   "metadata": {},
   "outputs": [],
   "source": []
  },
  {
   "cell_type": "code",
   "execution_count": null,
   "metadata": {},
   "outputs": [],
   "source": []
  }
 ],
 "metadata": {
  "kernelspec": {
   "display_name": "Python 3",
   "language": "python",
   "name": "python3"
  },
  "language_info": {
   "codemirror_mode": {
    "name": "ipython",
    "version": 3
   },
   "file_extension": ".py",
   "mimetype": "text/x-python",
   "name": "python",
   "nbconvert_exporter": "python",
   "pygments_lexer": "ipython3",
   "version": "3.7.1"
  }
 },
 "nbformat": 4,
 "nbformat_minor": 2
}
