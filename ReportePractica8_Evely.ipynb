{
 "cells": [
  {
   "cell_type": "markdown",
   "metadata": {},
   "source": [
    "# REPORTE PRÁCTICA 8: Análisis de varianza y de componentes principales\n",
    "\n",
    "# Análisis de Datos Multivariado \n",
    "\n",
    "#  Caso de Estudio: \n",
    "## Condiciones en los Centros de Reinserción Social CERESO y Topo Chico   \n",
    "\n",
    "\n",
    "####    Evely Gutiérrez Noda     #1935050\n",
    "\n",
    "\n",
    "# Introducción\n",
    "\n",
    "En el siguiente reporte se analiza el caso de estudio que permitirá evaluar las condiciones de reinserción social dentro del CERESO \"Apodaca\" y dentro del Centro Preventivo de Reinserción Topo Chico. Los datos que se usan para este estudio provienen de encuestas realizadas a mujeres y hombres, que se encuentran privados de libertad dentro del Centro de Reinserción. \n",
    "\n",
    "En esta práctica se busca el objetivo de realizar un análisis de varianza utilizando [**ANOVA**](https://pythonfordatascience.org/anova-python/) e intentar realizar un **PCA** en dos dimensiones para ver si se logran separar los hombres de las mujeres internas como dos clases de una forma clara. Además, se visualizan y discuten los resultados del **ANOVA** y del **PCA**.\n",
    "\n",
    "**ANOVA** es un proceso estadístico para analizar la cantidad de varianza que se contribuye a una muestra por diferentes factores. La hipótesis nula sería que no haya diferencias, es decir, si el valor p de una variable es menor a la significancia establecida (trabajando con un Alpha 0.05), entonces se rechaza la hipótesis nula, concluyendo que esa variable sí tiene un efecto estadísticamente significativo."
   ]
  },
  {
   "cell_type": "code",
   "execution_count": 4,
   "metadata": {},
   "outputs": [
    {
     "name": "stdout",
     "output_type": "stream",
     "text": [
      "                  sum_sq     df          F    PR(>F)\n",
      "age          1548.702158    1.0  10.091688  0.001593\n",
      "incomePrev   1680.636422    1.0  10.951401  0.001011\n",
      "Residual    68291.096829  445.0        NaN       NaN\n",
      "age es significativo\n",
      "incomePrev es significativo\n",
      "Residual no es significativo\n"
     ]
    }
   ],
   "source": [
    "import statsmodels.api as sm\n",
    "from statsmodels.formula.api import ols\n",
    "from numpy import isnan\n",
    "import pandas as pd\n",
    "import ssl\n",
    "\n",
    "if getattr(ssl, '_create_unverified_context', None):\n",
    "    ssl._create_default_https_context = ssl._create_unverified_context\n",
    "o = pd.read_csv(\"practica6.csv\")\n",
    "x = o.loc[o.gender == 'male']  # Para los internos Hombres\n",
    "datos = pd.concat([x.loc[x.age >= 16], x.loc[~isnan(x.age)]])\n",
    "d = pd.DataFrame(datos, columns = [\"sentenceYears\", \"age\", \"incomePrev\"])\n",
    "d = d.dropna() \n",
    "m = ols('sentenceYears ~ age + incomePrev ', data = d).fit() \n",
    "a = sm.stats.anova_lm(m, typ = 2)\n",
    "print(a)\n",
    "n = len(a)\n",
    "alpha = 0.05\n",
    "for i in range(n):\n",
    "    print(\"{:s} {:s}es significativo\".format(a.index[i], \"\" if a['PR(>F)'][i] < alpha else \"no \"))"
   ]
  },
  {
   "cell_type": "markdown",
   "metadata": {},
   "source": [
    "A pesar de que las variables son significativas, el valor de los residuos es muy alto, por tanto, se agregan otras columnas de datos que puedan marcar diferencias:\n",
    "- nivel de educación\n",
    "- tipo de crimen cometido\n",
    "- estado civil del interno\n",
    "- si tienen hijos o no\n",
    "- si es primera vez o no que están cumpliendo condena."
   ]
  },
  {
   "cell_type": "code",
   "execution_count": 5,
   "metadata": {},
   "outputs": [
    {
     "name": "stdout",
     "output_type": "stream",
     "text": [
      "                     sum_sq     df             F    PR(>F)\n",
      "age             1366.109398    1.0  1.157860e+01  0.000870\n",
      "incomePrev         0.000115    1.0  9.724117e-07  0.999215\n",
      "education        613.501213    1.0  5.199791e+00  0.024100\n",
      "crime           1521.854335    1.0  1.289863e+01  0.000454\n",
      "prevRelStatus     82.440547    1.0  6.987331e-01  0.404634\n",
      "hasChildren       54.282905    1.0  4.600802e-01  0.498706\n",
      "firstOffense     479.518822    1.0  4.064210e+00  0.045714\n",
      "Residual       16518.005357  140.0           NaN       NaN\n",
      "age es significativo\n",
      "incomePrev NO es significativo\n",
      "education es significativo\n",
      "crime es significativo\n",
      "prevRelStatus NO es significativo\n",
      "hasChildren NO es significativo\n",
      "firstOffense es significativo\n",
      "Residual NO es significativo\n"
     ]
    }
   ],
   "source": [
    "import statsmodels.api as sm\n",
    "from statsmodels.formula.api import ols\n",
    "from numpy import isnan\n",
    "import pandas as pd\n",
    "import ssl\n",
    "\n",
    "if getattr(ssl, '_create_unverified_context', None):\n",
    "    ssl._create_default_https_context = ssl._create_unverified_context\n",
    "o = pd.read_csv(\"practica6.csv\")\n",
    "x = o.loc[o.gender == 'male']  # Para los internos Hombres\n",
    "datos = pd.concat([x.loc[x.age >= 16], x.loc[~isnan(x.age)]])\n",
    "d = pd.DataFrame(datos, columns = [\"sentenceYears\", \"age\", \"incomePrev\", \"education\",\"crime\", \"prevRelStatus\", \"hasChildren\", \"firstOffense\"])\n",
    "d = d.dropna() \n",
    "m = ols('sentenceYears ~ age + incomePrev + education + crime + prevRelStatus + hasChildren + firstOffense', data = d).fit() \n",
    "a = sm.stats.anova_lm(m, typ = 2)\n",
    "print(a)\n",
    "n = len(a)\n",
    "alpha = 0.05\n",
    "for i in range(n):\n",
    "    print(\"{:s} {:s}es significativo\".format(a.index[i], \"\" if a['PR(>F)'][i] < alpha else \"NO \"))"
   ]
  },
  {
   "cell_type": "markdown",
   "metadata": {},
   "source": [
    "En este caso bajó notablemente el valor residual, y tres de las variables resultaron ser significativas, la edad, la educación y el crimen cometido. Es interesante ver las interacciones entre estos factores para ver cómo se comportan."
   ]
  },
  {
   "cell_type": "code",
   "execution_count": 3,
   "metadata": {},
   "outputs": [
    {
     "name": "stdout",
     "output_type": "stream",
     "text": [
      "                       sum_sq     df          F    PR(>F)\n",
      "age               1609.157272    1.0  13.976287  0.000268\n",
      "education          812.769656    1.0   7.059287  0.008795\n",
      "age:education      505.467586    1.0   4.390224  0.037934\n",
      "crime             1085.692416    1.0   9.429749  0.002562\n",
      "age:crime           87.376995    1.0   0.758910  0.385151\n",
      "education:crime    246.112154    1.0   2.137600  0.145952\n",
      "Residual         16234.008946  141.0        NaN       NaN\n",
      "age es significativo\n",
      "education es significativo\n",
      "age:education es significativo\n",
      "crime es significativo\n",
      "age:crime NO es significativo\n",
      "education:crime NO es significativo\n",
      "Residual NO es significativo\n"
     ]
    }
   ],
   "source": [
    "import statsmodels.api as sm\n",
    "from statsmodels.formula.api import ols\n",
    "from numpy import isnan\n",
    "import pandas as pd\n",
    "import ssl\n",
    "\n",
    "if getattr(ssl, '_create_unverified_context', None):\n",
    "    ssl._create_default_https_context = ssl._create_unverified_context\n",
    "o = pd.read_csv(\"practica6.csv\")\n",
    "x = o.loc[o.gender == 'male']\n",
    "datos = pd.concat([x.loc[x.age >= 16], x.loc[~isnan(x.age)]]) \n",
    "d = pd.DataFrame(datos, columns = [\"sentenceYears\", \"age\", \"incomePrev\", \"education\",\"crime\", \"prevRelStatus\", \"hasChildren\", \"firstOffense\"])\n",
    "\n",
    "d = d.dropna() \n",
    "m = ols('sentenceYears ~ age * education + age * crime + education * crime  ', \\\n",
    "        data = d).fit() \n",
    "a = sm.stats.anova_lm(m, typ = 2)\n",
    "print(a)\n",
    "n = len(a)\n",
    "alpha = 0.05\n",
    "for i in range(n):\n",
    "    print(\"{:s} {:s}es significativo\".format(a.index[i], \"\" if a['PR(>F)'][i] < alpha else \"NO \"))"
   ]
  },
  {
   "cell_type": "markdown",
   "metadata": {},
   "source": [
    "Según lo anterior parece haber interacción solo en la edad y la educación de los internos hombres en este caso.\n",
    "\n",
    "Con el objetivo de tratar de reducir múltiples variables de entrada en una menor cantidad para modelar la variable de interés se realiza un análisis de componentes principales (PCA). Primeramente, se realizan algunas modificaciones en los datos que se tienen y se guardan en un fichero nuevo .csv, y se trabaja solo con las columnas que convienen codificar con números. Se estandarizan rangos para los valores que se van a tomar en cuenta y se visualizan los datos finales que quedan en el fichero resultante. Los datos estandarizados son los siguientes:\n",
    "\n",
    "- Crimen\n",
    "- Años de sentencia\n",
    "- Educación\n",
    "- Edad\n",
    "- Si tenían trabajo o no antes de cometer un delito\n",
    "- Si es primera vez o no que están privados de la libertad\n",
    "- Los ingresos mensuales antes de estar privados de la libertad"
   ]
  },
  {
   "cell_type": "code",
   "execution_count": 10,
   "metadata": {},
   "outputs": [
    {
     "name": "stdout",
     "output_type": "stream",
     "text": [
      "Qué tenemos\n",
      "Index(['Unnamed: 0', 'Unnamed: 0.1', 'crime', 'sentenceYears', 'education',\n",
      "       'age', 'gender', 'hasChildren', 'numberOfChildren',\n",
      "       'howManyBornInPrisonFOAQ', 'childrenLiveInPrisonFOAQ',\n",
      "       'childrenSegPopFOAQ', 'childrenSocialSecurityFOAQ', 'prevRelStatus',\n",
      "       'workedBeforeFOAQ', 'firstOffense', 'incomePrev', 'crimen',\n",
      "       'educacion'],\n",
      "      dtype='object')\n",
      "Qué categorizamos tal cual\n",
      "[ 0  1  2  3 18  4  5  7  6 16  8 -1 11 14 19 17 12 13  9 15 10] int8\n",
      "[ 5 34 31  7 24 35 16 18 21  1 14  3  0 -1 10  4  6 15  2 11 23  9 17 27\n",
      "  8 36 30 12 19 26 38 13 33 28 39 22 32 37 20 29 25] int8\n",
      "[ 1  0  2 -1  3  4  5] int8\n",
      "[11 18 22 15  8 23 19 24 37 30 14  5 17 16  6  9 31 13 35 26  7 25 10 28\n",
      " 21  1 36 27 33  4  2 12 20 51 29 38 41 44 34 47 43 42 45 50 40 49 48 39\n",
      " 46 32  3  0] int8\n",
      "[-1] int8\n",
      "[ 0  1 -1] int8\n",
      "[ 1  0  2  3 -1] int8\n"
     ]
    },
    {
     "name": "stderr",
     "output_type": "stream",
     "text": [
      "C:\\ProgramData\\Anaconda3\\lib\\site-packages\\sklearn\\utils\\validation.py:595: DataConversionWarning: Data with input dtype int8 was converted to float64 by StandardScaler.\n",
      "  warnings.warn(msg, DataConversionWarning)\n",
      "C:\\ProgramData\\Anaconda3\\lib\\site-packages\\sklearn\\utils\\validation.py:595: DataConversionWarning: Data with input dtype int8 was converted to float64 by StandardScaler.\n",
      "  warnings.warn(msg, DataConversionWarning)\n"
     ]
    },
    {
     "data": {
      "text/html": [
       "<div>\n",
       "<style scoped>\n",
       "    .dataframe tbody tr th:only-of-type {\n",
       "        vertical-align: middle;\n",
       "    }\n",
       "\n",
       "    .dataframe tbody tr th {\n",
       "        vertical-align: top;\n",
       "    }\n",
       "\n",
       "    .dataframe thead th {\n",
       "        text-align: right;\n",
       "    }\n",
       "</style>\n",
       "<table border=\"1\" class=\"dataframe\">\n",
       "  <thead>\n",
       "    <tr style=\"text-align: right;\">\n",
       "      <th></th>\n",
       "      <th>comp_0</th>\n",
       "      <th>comp_1</th>\n",
       "      <th>age</th>\n",
       "      <th>sentenceYears</th>\n",
       "    </tr>\n",
       "  </thead>\n",
       "  <tbody>\n",
       "    <tr>\n",
       "      <th>0</th>\n",
       "      <td>0.157177</td>\n",
       "      <td>-0.590874</td>\n",
       "      <td>11</td>\n",
       "      <td>5</td>\n",
       "    </tr>\n",
       "    <tr>\n",
       "      <th>1</th>\n",
       "      <td>-2.105771</td>\n",
       "      <td>1.053757</td>\n",
       "      <td>18</td>\n",
       "      <td>34</td>\n",
       "    </tr>\n",
       "    <tr>\n",
       "      <th>2</th>\n",
       "      <td>-0.898662</td>\n",
       "      <td>1.563234</td>\n",
       "      <td>22</td>\n",
       "      <td>31</td>\n",
       "    </tr>\n",
       "    <tr>\n",
       "      <th>3</th>\n",
       "      <td>0.665591</td>\n",
       "      <td>-0.073561</td>\n",
       "      <td>15</td>\n",
       "      <td>7</td>\n",
       "    </tr>\n",
       "    <tr>\n",
       "      <th>4</th>\n",
       "      <td>0.675029</td>\n",
       "      <td>-0.367518</td>\n",
       "      <td>8</td>\n",
       "      <td>7</td>\n",
       "    </tr>\n",
       "    <tr>\n",
       "      <th>5</th>\n",
       "      <td>-0.628008</td>\n",
       "      <td>1.277725</td>\n",
       "      <td>23</td>\n",
       "      <td>24</td>\n",
       "    </tr>\n",
       "    <tr>\n",
       "      <th>6</th>\n",
       "      <td>0.003116</td>\n",
       "      <td>2.125808</td>\n",
       "      <td>19</td>\n",
       "      <td>35</td>\n",
       "    </tr>\n",
       "    <tr>\n",
       "      <th>7</th>\n",
       "      <td>-0.281785</td>\n",
       "      <td>0.864108</td>\n",
       "      <td>24</td>\n",
       "      <td>16</td>\n",
       "    </tr>\n",
       "    <tr>\n",
       "      <th>8</th>\n",
       "      <td>-1.018384</td>\n",
       "      <td>1.563524</td>\n",
       "      <td>37</td>\n",
       "      <td>18</td>\n",
       "    </tr>\n",
       "    <tr>\n",
       "      <th>9</th>\n",
       "      <td>-1.709348</td>\n",
       "      <td>0.952062</td>\n",
       "      <td>30</td>\n",
       "      <td>21</td>\n",
       "    </tr>\n",
       "  </tbody>\n",
       "</table>\n",
       "</div>"
      ],
      "text/plain": [
       "     comp_0    comp_1  age  sentenceYears\n",
       "0  0.157177 -0.590874   11              5\n",
       "1 -2.105771  1.053757   18             34\n",
       "2 -0.898662  1.563234   22             31\n",
       "3  0.665591 -0.073561   15              7\n",
       "4  0.675029 -0.367518    8              7\n",
       "5 -0.628008  1.277725   23             24\n",
       "6  0.003116  2.125808   19             35\n",
       "7 -0.281785  0.864108   24             16\n",
       "8 -1.018384  1.563524   37             18\n",
       "9 -1.709348  0.952062   30             21"
      ]
     },
     "metadata": {},
     "output_type": "display_data"
    }
   ],
   "source": [
    "import ssl\n",
    "import pandas as pd\n",
    "from numpy import isnan, nan\n",
    "from sklearn.decomposition import PCA\n",
    "from sklearn.preprocessing import StandardScaler\n",
    "                                                                                                                  \n",
    "if getattr(ssl, '_create_unverified_context', None):\n",
    "    ssl._create_default_https_context = ssl._create_unverified_context\n",
    "o = pd.read_csv(\"practica6.csv\")\n",
    "x = o.loc[o.gender == 'male']\n",
    "d = pd.concat([x.loc[x.age >= 16], x.loc[~isnan(x.age)]]) \n",
    "print('Qué tenemos')\n",
    "print(d.columns)\n",
    "d = d.drop(['Unnamed: 0', 'Unnamed: 0.1',\n",
    "       'gender', 'hasChildren', 'numberOfChildren',\n",
    "       'howManyBornInPrisonFOAQ', 'childrenLiveInPrisonFOAQ',\n",
    "       'childrenSegPopFOAQ', 'childrenSocialSecurityFOAQ', 'prevRelStatus',\n",
    "       'crimen','educacion'], 1)\n",
    "\n",
    "print('Qué categorizamos tal cual')\n",
    "for c in ['crime', 'sentenceYears', 'education',\n",
    "       'age', 'workedBeforeFOAQ', 'firstOffense', 'incomePrev']:\n",
    "    cat = pd.Categorical(d[c])\n",
    "    d[c] = cat.codes\n",
    "\n",
    "for c in d.columns:\n",
    "    print(d[c].unique(), d[c].dtype)   \n",
    "xVars = ['crime', 'sentenceYears', 'education',\n",
    "       'age', 'workedBeforeFOAQ', 'firstOffense', 'incomePrev']\n",
    "\n",
    "\n",
    "d = d.dropna() \n",
    "x = d.loc[:, xVars].values\n",
    "x = StandardScaler().fit_transform(x)\n",
    "y1 = d.loc[:,['age']].values\n",
    "y2 = d.loc[:,['sentenceYears']].values\n",
    "k = 2 # Para dos dimensiones \n",
    "pca = PCA(n_components = k)\n",
    "cd = pd.DataFrame(data = pca.fit_transform(x), columns = ['comp_{:d}'.format(i) for i in range(k)])\n",
    "cd['age'] = y1\n",
    "cd['sentenceYears'] = y2\n",
    "ordenado = pd.DataFrame.sort_values(cd, ['age'], ascending = False)\n",
    "display(cd.head(10))\n",
    "cd.to_csv('practica7.csv')"
   ]
  },
  {
   "cell_type": "markdown",
   "metadata": {},
   "source": [
    "Se visualiza la información en dos dimensiones, para analizar si se separan de alguna forma clara las clases de hombres internos por su edad, sentencia o si no hay unión entre estos dos factores."
   ]
  },
  {
   "cell_type": "code",
   "execution_count": 11,
   "metadata": {
    "scrolled": false
   },
   "outputs": [
    {
     "name": "stderr",
     "output_type": "stream",
     "text": [
      "C:\\ProgramData\\Anaconda3\\lib\\site-packages\\ipykernel_launcher.py:22: FutureWarning: \n",
      "Passing list-likes to .loc or [] with any missing label will raise\n",
      "KeyError in the future, you can use .reindex() as an alternative.\n",
      "\n",
      "See the documentation here:\n",
      "https://pandas.pydata.org/pandas-docs/stable/indexing.html#deprecate-loc-reindex-listlike\n"
     ]
    },
    {
     "data": {
      "image/png": "[encoded data removed]",
      "text/plain": [
       "<Figure size 432x288 with 1 Axes>"
      ]
     },
     "metadata": {
      "needs_background": "light"
     },
     "output_type": "display_data"
    }
   ],
   "source": [
    "import ssl\n",
    "import pandas as pd\n",
    "from numpy import isnan, nan\n",
    "from sklearn.decomposition import PCA\n",
    "from sklearn.preprocessing import StandardScaler\n",
    "import matplotlib.pyplot as plt\n",
    "                                                                                                                  \n",
    "if getattr(ssl, '_create_unverified_context', None):\n",
    "    ssl._create_default_https_context = ssl._create_unverified_context\n",
    "d = pd.read_csv('practica7.csv')\n",
    "\n",
    "\n",
    "pri = d.sentenceYears\n",
    "seg = d.age >=16\n",
    "ter = ~ (pri | seg)\n",
    "\n",
    "\n",
    "plt.title('PCA bidimensional', fontsize = 20)\n",
    "plt.xlabel('Primer componente', fontsize = 15)\n",
    "plt.ylabel('Segundo componente', fontsize = 15)\n",
    "plt.scatter(d.loc[pri].comp_0, d.loc[pri].comp_1, c = 'g', s = 50)\n",
    "plt.scatter(d.loc[seg].comp_0, d.loc[seg].comp_1, c = 'b', s = 50)\n",
    "plt.scatter(d.loc[ter].comp_0, d.loc[ter].comp_1, c = 'r', s = 50)\n",
    "plt.legend(['Sentencia', 'Edades', 'Unión'])\n",
    "plt.grid()"
   ]
  },
  {
   "cell_type": "markdown",
   "metadata": {},
   "source": [
    "Con el diagrama anterior se ve que se separan un poco el factor edad de los hombres con el factor años de sentencia que tienen, en cabio la unión de estos factores es casi nula. Entonces en este caso y con este análisis se pudieran separar de forma clara estos factores."
   ]
  },
  {
   "cell_type": "code",
   "execution_count": null,
   "metadata": {},
   "outputs": [],
   "source": []
  }
 ],
 "metadata": {
  "kernelspec": {
   "display_name": "Python 3",
   "language": "python",
   "name": "python3"
  },
  "language_info": {
   "codemirror_mode": {
    "name": "ipython",
    "version": 3
   },
   "file_extension": ".py",
   "mimetype": "text/x-python",
   "name": "python",
   "nbconvert_exporter": "python",
   "pygments_lexer": "ipython3",
   "version": "3.7.1"
  }
 },
 "nbformat": 4,
 "nbformat_minor": 2
}
