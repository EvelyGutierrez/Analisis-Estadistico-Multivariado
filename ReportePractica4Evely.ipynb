{
 "cells": [
  {
   "cell_type": "markdown",
   "metadata": {},
   "source": [
    "# REPORTE PRÁCTICA 4: Visualización de información con plotly\n",
    "\n",
    "# Análisis de Datos Multivariado \n",
    "\n",
    "#  Caso de Estudio: \n",
    "## Condiciones en los Centros de Reinserción Social CERESO y Topo Chico   \n",
    "\n",
    "\n",
    "####    Evely Gutiérrez Noda     #1935050\n",
    "\n",
    "\n",
    "# Introducción\n",
    "\n",
    "<p style=\"text-align: justify;\"> En el siguiente reporte se analiza el caso de estudio que permitirá evaluar las condiciones de reinserción social dentro del CERESO \"Apodaca\" y dentro del Centro Preventivo de Reinserción Topo Chico. Los datos que se usan para este estudio provienen de encuestas realizadas a mujeres y hombres, que se encuentran privados de libertad dentro del Centro de Reinserción. \n",
    "<p style=\"text-align: justify;\">El objetivo de esta práctica es trabajar con `plotly` para obtener cierto nivel de interacción con los datos. `Plotly` es una de las mejores librerías de uso libres para crear una variedad de gráficas interactivas y ricas en funcionalidad. Se van a crear algunas graficas de diferentes tipos que permitirán concluir algunas cosas sobre los datos que se obtuvieron de las encuestas. Se incluyen gráficas de caja-bigote, Histograma, Histograma horizontal, Histograma superpuesto y de barra. \n",
    "\n",
    "<p style=\"text-align: justify;\">`Plotly` ofrece un API excelente para crear gráficas interactivas que pueden ser incluidas en webs y blogs. El paquete no viene incluido, pero se puede instalar de manera muy sencilla con pip:\n"
   ]
  },
  {
   "cell_type": "markdown",
   "metadata": {},
   "source": [
    "$pip install plotly"
   ]
  },
  {
   "cell_type": "markdown",
   "metadata": {},
   "source": [
    "<p style=\"text-align: justify;\">Para poder utilizar `plotly` se necesitan credenciales, por lo que es necesario registrarse. Este registro es gratuito, sin embargo, el número de archivos privados que se pueden almacenar es limitado en la versión gratuita.\n",
    "<p style=\"text-align: justify;\">Luego de tener ya lista la librería, se leen los datos guardados en la práctica anterior [Práctica 3](https://github.com/EvelyGutierrez/Analisis-Estadistico-Multivariado/blob/master/ReportePractica3Evely.ipynb), se importan las funcionalidades a utilizar y se cambian las credenciales por el APY KEY que se genera luego de crear un usuario en `plotly`. Luego se crea la gráfica de caja-bigote con el código siguiente que se puede correr en **jupyter**, dando como resultado el gráfico siguiente.\n"
   ]
  },
  {
   "cell_type": "code",
   "execution_count": 171,
   "metadata": {},
   "outputs": [
    {
     "data": {
      "text/html": [
       "<iframe id=\"igraph\" scrolling=\"no\" style=\"border:none;\" seamless=\"seamless\" src=\"https://plot.ly/~evely/114.embed\" height=\"525px\" width=\"100%\"></iframe>"
      ],
      "text/plain": [
       "<plotly.tools.PlotlyDisplay object>"
      ]
     },
     "execution_count": 171,
     "metadata": {},
     "output_type": "execute_result"
    }
   ],
   "source": [
    "import plotly as plotly\n",
    "import plotly.plotly as py\n",
    "import plotly.graph_objs as go\n",
    "import pandas as pd\n",
    "import ssl\n",
    "\n",
    "plotly.tools.set_credentials_file(username='evely', api_key='2e7wTIiQwgd8kwBZbDOE')\n",
    "\n",
    "if getattr(ssl, '_create_unverified_context', None):\n",
    "    ssl._create_default_https_context = ssl._create_unverified_context\n",
    "d = pd.read_csv(\"practica3ok.csv\")\n",
    "datos = []\n",
    "for sem in d.crime.unique():\n",
    "    if sem != '':\n",
    "        datos.append(go.Box(y = d.loc[d['crime'] == sem].sentenceYears, name = sem))\n",
    "py.iplot(datos, filename='Crimen_Años de sentencia')"
   ]
  },
  {
   "cell_type": "markdown",
   "metadata": {},
   "source": [
    "<p style=\"text-align: justify;\">Se representaron los datos referentes a los tipos de delitos y a los años de sentencia impuestos a los internos. Del gráfico anterior se puede observar que los años de sentencia mayores son en el delito de Secuestro, y privados a la libertad, cosa que es muy rara y puede ser que la respuesta que hayan dado los internos a esta pregunta no sea correcta, ya que el valor de años de sentencia para estos homicidios es de 90 o 92 años.\n",
    "    \n",
    "<p style=\"text-align: justify;\">Seguido se representa información referente a la edad de los internos y al delito cometido donde se puede apreciar que personas de mayores edades cometen delitos del tipo violación y fraude.\n"
   ]
  },
  {
   "cell_type": "code",
   "execution_count": 173,
   "metadata": {},
   "outputs": [
    {
     "data": {
      "text/html": [
       "<iframe id=\"igraph\" scrolling=\"no\" style=\"border:none;\" seamless=\"seamless\" src=\"https://plot.ly/~evely/102.embed\" height=\"525px\" width=\"100%\"></iframe>"
      ],
      "text/plain": [
       "<plotly.tools.PlotlyDisplay object>"
      ]
     },
     "execution_count": 173,
     "metadata": {},
     "output_type": "execute_result"
    }
   ],
   "source": [
    "import pandas as pd\n",
    "from numpy import NaN\n",
    "import ssl\n",
    "\n",
    "if getattr(ssl, '_create_unverified_context', None):\n",
    "    ssl._create_default_https_context = ssl._create_unverified_context\n",
    "d = pd.read_csv(\"practica3ok.csv\")\n",
    "datos = []\n",
    "for sem in d.crime.unique():\n",
    "    if sem != '':\n",
    "        datos.append(go.Box(y = d.loc[d['crime'] == sem].age, name = sem))\n",
    "py.iplot(datos, filename='Crimen_Edad')\n"
   ]
  },
  {
   "cell_type": "markdown",
   "metadata": {},
   "source": [
    "<p style=\"text-align: justify;\">Otro gráfico que se realizó fue el de nivel educacional con respecto al crimen cometido, en este caso se limpiaron un poco más los datos de nivel de educación. Luego se realizó otro gráfico con el nivel de educación y los años de sentencia de los internos. Se puede ver por ejemplo que los internos que respondieron a \"ningún estudio\" cometen el delito contra la salud más frecuentemente y la media de casi todos los internos cometen homicidios, independientemente del nivel educacional que tengan."
   ]
  },
  {
   "cell_type": "code",
   "execution_count": 174,
   "metadata": {},
   "outputs": [
    {
     "data": {
      "text/html": [
       "<iframe id=\"igraph\" scrolling=\"no\" style=\"border:none;\" seamless=\"seamless\" src=\"https://plot.ly/~evely/30.embed\" height=\"525px\" width=\"100%\"></iframe>"
      ],
      "text/plain": [
       "<plotly.tools.PlotlyDisplay object>"
      ]
     },
     "execution_count": 174,
     "metadata": {},
     "output_type": "execute_result"
    }
   ],
   "source": [
    "import pandas as pd\n",
    "from numpy import NaN\n",
    "import ssl\n",
    "\n",
    "if getattr(ssl, '_create_unverified_context', None):\n",
    "    ssl._create_default_https_context = ssl._create_unverified_context\n",
    "d = pd.read_csv(\"practica3ok.csv\")\n",
    "datos = []\n",
    "for sem in d.education.unique():\n",
    "    if sem != '':\n",
    "        datos.append(go.Box(y = d.loc[d['education'] == sem].crime, name = sem))\n",
    "py.iplot(datos, filename='Educacion_Crimen')"
   ]
  },
  {
   "cell_type": "markdown",
   "metadata": {},
   "source": [
    "<p style=\"text-align: justify;\">Se graficó el nivel de educación con respecto a los años de sentencia impuestos, donde se evidencia que las mayores sentencias impuestas son a los internos con escolaridad Preparatoria."
   ]
  },
  {
   "cell_type": "code",
   "execution_count": 175,
   "metadata": {},
   "outputs": [
    {
     "data": {
      "text/html": [
       "<iframe id=\"igraph\" scrolling=\"no\" style=\"border:none;\" seamless=\"seamless\" src=\"https://plot.ly/~evely/104.embed\" height=\"525px\" width=\"100%\"></iframe>"
      ],
      "text/plain": [
       "<plotly.tools.PlotlyDisplay object>"
      ]
     },
     "execution_count": 175,
     "metadata": {},
     "output_type": "execute_result"
    }
   ],
   "source": [
    "import pandas as pd\n",
    "from numpy import NaN\n",
    "import ssl\n",
    "\n",
    "if getattr(ssl, '_create_unverified_context', None):\n",
    "    ssl._create_default_https_context = ssl._create_unverified_context\n",
    "d = pd.read_csv(\"practica3ok.csv\")\n",
    "datos = []\n",
    "for sem in d.education.unique():\n",
    "    if sem != '':\n",
    "        datos.append(go.Box(y = d.loc[d['education'] == sem].sentenceYears, name = sem))\n",
    "py.iplot(datos, filename='Educacion_Sentencia')"
   ]
  },
  {
   "cell_type": "markdown",
   "metadata": {},
   "source": [
    "<p style=\"text-align: justify;\">El siguiente gráfico es con relación a la cantidad de hijos que tienen los internos y a los años de sentencia impuestos, de modo que se puede apreciar que si tiene un número de años alto y más de dos hijos, pudiera ser que el crimen que cometan sea de categoría más grave, teniendo así mayor cantidad de años de sentencia."
   ]
  },
  {
   "cell_type": "code",
   "execution_count": 176,
   "metadata": {
    "scrolled": false
   },
   "outputs": [
    {
     "data": {
      "text/html": [
       "<iframe id=\"igraph\" scrolling=\"no\" style=\"border:none;\" seamless=\"seamless\" src=\"https://plot.ly/~evely/106.embed\" height=\"525px\" width=\"100%\"></iframe>"
      ],
      "text/plain": [
       "<plotly.tools.PlotlyDisplay object>"
      ]
     },
     "execution_count": 176,
     "metadata": {},
     "output_type": "execute_result"
    }
   ],
   "source": [
    "import pandas as pd\n",
    "import ssl\n",
    "import plotly.plotly as py\n",
    "import plotly.graph_objs as go\n",
    "from random import randint\n",
    "\n",
    "if getattr(ssl, '_create_unverified_context', None):\n",
    "    ssl._create_default_https_context = ssl._create_unverified_context\n",
    "d = pd.read_csv(\"practica3ok.csv\")\n",
    "m1 = {'size': 7, 'color': 'rgba(170, 0, 0, .7)'}\n",
    "m2 = {'size': 5, 'color': 'rgba(0, 170, 0, .6)'}\n",
    "m3 = {'size': 7, 'color': 'rgba(0, 0, 170, .5)'}\n",
    "\n",
    "delta = 0.3\n",
    "datos = [go.Scatter(x = d.howManyBornInPrisonFOAQ - delta, y = d.sentenceYears, mode = 'markers', marker = m1, name=\"Nacidos en pricion\"),\\\n",
    "         go.Scatter(x = d.numberOfChildren, y = d.sentenceYears, mode = 'markers', marker = m2, name=\"Cantidad de hijos\"),\\\n",
    "         go.Scatter(x = d.childrenLiveInPrisonFOAQ + delta, y = d.sentenceYears, mode = 'markers', marker = m3, name=\"Viven en pricion\")]\n",
    "f = {\"data\": datos, \n",
    "    \"layout\" : {\n",
    "        \"title\": \"Sentencia/Hijos\",\n",
    "        \"showlegend\": True,\n",
    "        \"xaxis\": {\n",
    "            \"title\": \"Datos Hijos\",\n",
    "            \"zeroline\": False,\n",
    "        },\n",
    "         \"yaxis\": {\n",
    "            \"title\": \"Sentencia padres\",\n",
    "            \"zeroline\": False,\n",
    "        }\n",
    "    }\n",
    "}\n",
    "py.iplot(f, filename='Sentencias_Hijos')\n"
   ]
  },
  {
   "cell_type": "markdown",
   "metadata": {},
   "source": [
    "<p style=\"text-align: justify;\">Otros ejemplos de diagramas son el Histograma, Histograma horizontal, Histograma superpuesto y de barra, los cuales evidencian la misma información mostrada en los diagramas anteriores pero en diferentes tipos de diagramas."
   ]
  },
  {
   "cell_type": "code",
   "execution_count": 177,
   "metadata": {
    "scrolled": false
   },
   "outputs": [
    {
     "data": {
      "text/html": [
       "<iframe id=\"igraph\" scrolling=\"no\" style=\"border:none;\" seamless=\"seamless\" src=\"https://plot.ly/~evely/108.embed\" height=\"525px\" width=\"100%\"></iframe>"
      ],
      "text/plain": [
       "<plotly.tools.PlotlyDisplay object>"
      ]
     },
     "execution_count": 177,
     "metadata": {},
     "output_type": "execute_result"
    }
   ],
   "source": [
    "import plotly.plotly as py\n",
    "import plotly.graph_objs as go\n",
    "\n",
    "df = pd.read_csv(\"practica3ok.csv\")\n",
    "\n",
    "data = [go.Histogram(x=df.education,\n",
    "            y=df.sentenceYears)]\n",
    "\n",
    "py.iplot(data, filename='Educación_Sentencia')"
   ]
  },
  {
   "cell_type": "code",
   "execution_count": 164,
   "metadata": {},
   "outputs": [
    {
     "data": {
      "text/html": [
       "<iframe id=\"igraph\" scrolling=\"no\" style=\"border:none;\" seamless=\"seamless\" src=\"https://plot.ly/~evely/110.embed\" height=\"525px\" width=\"100%\"></iframe>"
      ],
      "text/plain": [
       "<plotly.tools.PlotlyDisplay object>"
      ]
     },
     "execution_count": 164,
     "metadata": {},
     "output_type": "execute_result"
    }
   ],
   "source": [
    "import plotly.plotly as py\n",
    "import plotly.graph_objs as go\n",
    "\n",
    "df = pd.read_csv(\"practica3ok.csv\")\n",
    "\n",
    "data = [go.Bar(x=df.crime,\n",
    "            y=df.sentenceYears)]\n",
    "\n",
    "py.iplot(data, filename='Crime_Sentencia')"
   ]
  },
  {
   "cell_type": "code",
   "execution_count": 141,
   "metadata": {},
   "outputs": [
    {
     "data": {
      "text/html": [
       "<iframe id=\"igraph\" scrolling=\"no\" style=\"border:none;\" seamless=\"seamless\" src=\"https://plot.ly/~evely/92.embed\" height=\"525px\" width=\"100%\"></iframe>"
      ],
      "text/plain": [
       "<plotly.tools.PlotlyDisplay object>"
      ]
     },
     "execution_count": 141,
     "metadata": {},
     "output_type": "execute_result"
    }
   ],
   "source": [
    "import plotly.plotly as py\n",
    "import plotly.graph_objs as go\n",
    "\n",
    "df = pd.read_csv(\"practica3ok.csv\")\n",
    "y = df.sentenceYears\n",
    "data = [go.Histogram(y=y)]\n",
    "\n",
    "py.iplot(data, filename='Histograma_Horizontal')"
   ]
  },
  {
   "cell_type": "code",
   "execution_count": 169,
   "metadata": {},
   "outputs": [
    {
     "data": {
      "text/html": [
       "<iframe id=\"igraph\" scrolling=\"no\" style=\"border:none;\" seamless=\"seamless\" src=\"https://plot.ly/~evely/112.embed\" height=\"525px\" width=\"100%\"></iframe>"
      ],
      "text/plain": [
       "<plotly.tools.PlotlyDisplay object>"
      ]
     },
     "execution_count": 169,
     "metadata": {},
     "output_type": "execute_result"
    }
   ],
   "source": [
    "import plotly.plotly as py\n",
    "import plotly.graph_objs as go\n",
    "\n",
    "\n",
    "df = pd.read_csv(\"practica3ok.csv\")\n",
    "edad = df.age\n",
    "sentencia = df.sentenceYears\n",
    "\n",
    "trace1 = go.Histogram(\n",
    "    x=edad,\n",
    "    opacity=0.75\n",
    ")\n",
    "trace2 = go.Histogram(\n",
    "    x=sentencia,\n",
    "    opacity=0.75\n",
    ")\n",
    "\n",
    "data = [trace1, trace2]\n",
    "layout = go.Layout(barmode='overlay')\n",
    "fig = go.Figure(data=data, layout=layout)\n",
    "\n",
    "py.iplot(fig, filename='Histograma_Superpuesto')"
   ]
  },
  {
   "cell_type": "markdown",
   "metadata": {},
   "source": [
    "<p style=\"text-align: justify;\">El uso de los diagramas facilita la interpretación de la información, la relaciona y permite llegar a conclusiones, en el caso de los datos que se están analizando, por medio de los diagramas también se pudo ver la relación existente entre las columnas seleccionadas para el análisis de esta información."
   ]
  },
  {
   "cell_type": "code",
   "execution_count": null,
   "metadata": {},
   "outputs": [],
   "source": []
  }
 ],
 "metadata": {
  "kernelspec": {
   "display_name": "Python 3",
   "language": "python",
   "name": "python3"
  },
  "language_info": {
   "codemirror_mode": {
    "name": "ipython",
    "version": 3
   },
   "file_extension": ".py",
   "mimetype": "text/x-python",
   "name": "python",
   "nbconvert_exporter": "python",
   "pygments_lexer": "ipython3",
   "version": "3.7.1"
  }
 },
 "nbformat": 4,
 "nbformat_minor": 2
}
